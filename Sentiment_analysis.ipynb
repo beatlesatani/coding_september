{
  "nbformat": 4,
  "nbformat_minor": 0,
  "metadata": {
    "colab": {
      "provenance": [],
      "gpuType": "T4",
      "authorship_tag": "ABX9TyPRYH9Mf3XOYAwn8CYuhDXw",
      "include_colab_link": true
    },
    "kernelspec": {
      "name": "python3",
      "display_name": "Python 3"
    },
    "language_info": {
      "name": "python"
    },
    "accelerator": "GPU"
  },
  "cells": [
    {
      "cell_type": "markdown",
      "metadata": {
        "id": "view-in-github",
        "colab_type": "text"
      },
      "source": [
        "<a href=\"https://colab.research.google.com/github/beatlesatani/coding_september/blob/main/Sentiment_analysis.ipynb\" target=\"_parent\"><img src=\"https://colab.research.google.com/assets/colab-badge.svg\" alt=\"Open In Colab\"/></a>"
      ]
    },
    {
      "cell_type": "code",
      "execution_count": 1,
      "metadata": {
        "id": "iPAXk6dq7eL6"
      },
      "outputs": [],
      "source": [
        "#use this website as a refenrece\n",
        "#https://qiita.com/omiita/items/1735c1d048fe5f611f80\n",
        "#https://www.youtube.com/watch?v=pXGBHV3y8rs&list=PLeo1K3hjS3uu7CxAacxVndI4bE_o3BDtO&index=12"
      ]
    },
    {
      "cell_type": "code",
      "source": [
        "# the dataset,train.csv and test.csv came from https://www.kaggle.com/datasets/abhi8923shriv/sentiment-analysis-dataset"
      ],
      "metadata": {
        "id": "1IckupOy7jxX"
      },
      "execution_count": 2,
      "outputs": []
    },
    {
      "cell_type": "code",
      "source": [
        "!pip install tensorflow_text"
      ],
      "metadata": {
        "colab": {
          "base_uri": "https://localhost:8080/"
        },
        "id": "eLUEDtFZ-Zih",
        "outputId": "716aac50-fddb-497e-a1f9-b163b0480a13"
      },
      "execution_count": null,
      "outputs": [
        {
          "output_type": "stream",
          "name": "stdout",
          "text": [
            "Collecting tensorflow_text\n",
            "  Downloading tensorflow_text-2.13.0-cp310-cp310-manylinux_2_17_x86_64.manylinux2014_x86_64.whl (6.5 MB)\n",
            "\u001b[2K     \u001b[90m━━━━━━━━━━━━━━━━━━━━━━━━━━━━━━━━━━━━━━━━\u001b[0m \u001b[32m6.5/6.5 MB\u001b[0m \u001b[31m16.7 MB/s\u001b[0m eta \u001b[36m0:00:00\u001b[0m\n",
            "\u001b[?25hRequirement already satisfied: tensorflow-hub>=0.8.0 in /usr/local/lib/python3.10/dist-packages (from tensorflow_text) (0.14.0)\n",
            "Requirement already satisfied: tensorflow<2.14,>=2.13.0 in /usr/local/lib/python3.10/dist-packages (from tensorflow_text) (2.13.0)\n",
            "Requirement already satisfied: absl-py>=1.0.0 in /usr/local/lib/python3.10/dist-packages (from tensorflow<2.14,>=2.13.0->tensorflow_text) (1.4.0)\n",
            "Requirement already satisfied: astunparse>=1.6.0 in /usr/local/lib/python3.10/dist-packages (from tensorflow<2.14,>=2.13.0->tensorflow_text) (1.6.3)\n",
            "Requirement already satisfied: flatbuffers>=23.1.21 in /usr/local/lib/python3.10/dist-packages (from tensorflow<2.14,>=2.13.0->tensorflow_text) (23.5.26)\n",
            "Requirement already satisfied: gast<=0.4.0,>=0.2.1 in /usr/local/lib/python3.10/dist-packages (from tensorflow<2.14,>=2.13.0->tensorflow_text) (0.4.0)\n",
            "Requirement already satisfied: google-pasta>=0.1.1 in /usr/local/lib/python3.10/dist-packages (from tensorflow<2.14,>=2.13.0->tensorflow_text) (0.2.0)\n",
            "Requirement already satisfied: grpcio<2.0,>=1.24.3 in /usr/local/lib/python3.10/dist-packages (from tensorflow<2.14,>=2.13.0->tensorflow_text) (1.57.0)\n",
            "Requirement already satisfied: h5py>=2.9.0 in /usr/local/lib/python3.10/dist-packages (from tensorflow<2.14,>=2.13.0->tensorflow_text) (3.9.0)\n",
            "Requirement already satisfied: keras<2.14,>=2.13.1 in /usr/local/lib/python3.10/dist-packages (from tensorflow<2.14,>=2.13.0->tensorflow_text) (2.13.1)\n",
            "Requirement already satisfied: libclang>=13.0.0 in /usr/local/lib/python3.10/dist-packages (from tensorflow<2.14,>=2.13.0->tensorflow_text) (16.0.6)\n",
            "Requirement already satisfied: numpy<=1.24.3,>=1.22 in /usr/local/lib/python3.10/dist-packages (from tensorflow<2.14,>=2.13.0->tensorflow_text) (1.23.5)\n",
            "Requirement already satisfied: opt-einsum>=2.3.2 in /usr/local/lib/python3.10/dist-packages (from tensorflow<2.14,>=2.13.0->tensorflow_text) (3.3.0)\n",
            "Requirement already satisfied: packaging in /usr/local/lib/python3.10/dist-packages (from tensorflow<2.14,>=2.13.0->tensorflow_text) (23.1)\n",
            "Requirement already satisfied: protobuf!=4.21.0,!=4.21.1,!=4.21.2,!=4.21.3,!=4.21.4,!=4.21.5,<5.0.0dev,>=3.20.3 in /usr/local/lib/python3.10/dist-packages (from tensorflow<2.14,>=2.13.0->tensorflow_text) (3.20.3)\n",
            "Requirement already satisfied: setuptools in /usr/local/lib/python3.10/dist-packages (from tensorflow<2.14,>=2.13.0->tensorflow_text) (67.7.2)\n",
            "Requirement already satisfied: six>=1.12.0 in /usr/local/lib/python3.10/dist-packages (from tensorflow<2.14,>=2.13.0->tensorflow_text) (1.16.0)\n",
            "Requirement already satisfied: tensorboard<2.14,>=2.13 in /usr/local/lib/python3.10/dist-packages (from tensorflow<2.14,>=2.13.0->tensorflow_text) (2.13.0)\n",
            "Requirement already satisfied: tensorflow-estimator<2.14,>=2.13.0 in /usr/local/lib/python3.10/dist-packages (from tensorflow<2.14,>=2.13.0->tensorflow_text) (2.13.0)\n",
            "Requirement already satisfied: termcolor>=1.1.0 in /usr/local/lib/python3.10/dist-packages (from tensorflow<2.14,>=2.13.0->tensorflow_text) (2.3.0)\n",
            "Requirement already satisfied: typing-extensions<4.6.0,>=3.6.6 in /usr/local/lib/python3.10/dist-packages (from tensorflow<2.14,>=2.13.0->tensorflow_text) (4.5.0)\n",
            "Requirement already satisfied: wrapt>=1.11.0 in /usr/local/lib/python3.10/dist-packages (from tensorflow<2.14,>=2.13.0->tensorflow_text) (1.15.0)\n",
            "Requirement already satisfied: tensorflow-io-gcs-filesystem>=0.23.1 in /usr/local/lib/python3.10/dist-packages (from tensorflow<2.14,>=2.13.0->tensorflow_text) (0.33.0)\n",
            "Requirement already satisfied: wheel<1.0,>=0.23.0 in /usr/local/lib/python3.10/dist-packages (from astunparse>=1.6.0->tensorflow<2.14,>=2.13.0->tensorflow_text) (0.41.2)\n",
            "Requirement already satisfied: google-auth<3,>=1.6.3 in /usr/local/lib/python3.10/dist-packages (from tensorboard<2.14,>=2.13->tensorflow<2.14,>=2.13.0->tensorflow_text) (2.17.3)\n",
            "Requirement already satisfied: google-auth-oauthlib<1.1,>=0.5 in /usr/local/lib/python3.10/dist-packages (from tensorboard<2.14,>=2.13->tensorflow<2.14,>=2.13.0->tensorflow_text) (1.0.0)\n",
            "Requirement already satisfied: markdown>=2.6.8 in /usr/local/lib/python3.10/dist-packages (from tensorboard<2.14,>=2.13->tensorflow<2.14,>=2.13.0->tensorflow_text) (3.4.4)\n",
            "Requirement already satisfied: requests<3,>=2.21.0 in /usr/local/lib/python3.10/dist-packages (from tensorboard<2.14,>=2.13->tensorflow<2.14,>=2.13.0->tensorflow_text) (2.31.0)\n",
            "Requirement already satisfied: tensorboard-data-server<0.8.0,>=0.7.0 in /usr/local/lib/python3.10/dist-packages (from tensorboard<2.14,>=2.13->tensorflow<2.14,>=2.13.0->tensorflow_text) (0.7.1)\n",
            "Requirement already satisfied: werkzeug>=1.0.1 in /usr/local/lib/python3.10/dist-packages (from tensorboard<2.14,>=2.13->tensorflow<2.14,>=2.13.0->tensorflow_text) (2.3.7)\n",
            "Requirement already satisfied: cachetools<6.0,>=2.0.0 in /usr/local/lib/python3.10/dist-packages (from google-auth<3,>=1.6.3->tensorboard<2.14,>=2.13->tensorflow<2.14,>=2.13.0->tensorflow_text) (5.3.1)\n",
            "Requirement already satisfied: pyasn1-modules>=0.2.1 in /usr/local/lib/python3.10/dist-packages (from google-auth<3,>=1.6.3->tensorboard<2.14,>=2.13->tensorflow<2.14,>=2.13.0->tensorflow_text) (0.3.0)\n",
            "Requirement already satisfied: rsa<5,>=3.1.4 in /usr/local/lib/python3.10/dist-packages (from google-auth<3,>=1.6.3->tensorboard<2.14,>=2.13->tensorflow<2.14,>=2.13.0->tensorflow_text) (4.9)\n",
            "Requirement already satisfied: requests-oauthlib>=0.7.0 in /usr/local/lib/python3.10/dist-packages (from google-auth-oauthlib<1.1,>=0.5->tensorboard<2.14,>=2.13->tensorflow<2.14,>=2.13.0->tensorflow_text) (1.3.1)\n",
            "Requirement already satisfied: charset-normalizer<4,>=2 in /usr/local/lib/python3.10/dist-packages (from requests<3,>=2.21.0->tensorboard<2.14,>=2.13->tensorflow<2.14,>=2.13.0->tensorflow_text) (3.2.0)\n",
            "Requirement already satisfied: idna<4,>=2.5 in /usr/local/lib/python3.10/dist-packages (from requests<3,>=2.21.0->tensorboard<2.14,>=2.13->tensorflow<2.14,>=2.13.0->tensorflow_text) (3.4)\n",
            "Requirement already satisfied: urllib3<3,>=1.21.1 in /usr/local/lib/python3.10/dist-packages (from requests<3,>=2.21.0->tensorboard<2.14,>=2.13->tensorflow<2.14,>=2.13.0->tensorflow_text) (2.0.4)\n",
            "Requirement already satisfied: certifi>=2017.4.17 in /usr/local/lib/python3.10/dist-packages (from requests<3,>=2.21.0->tensorboard<2.14,>=2.13->tensorflow<2.14,>=2.13.0->tensorflow_text) (2023.7.22)\n",
            "Requirement already satisfied: MarkupSafe>=2.1.1 in /usr/local/lib/python3.10/dist-packages (from werkzeug>=1.0.1->tensorboard<2.14,>=2.13->tensorflow<2.14,>=2.13.0->tensorflow_text) (2.1.3)\n",
            "Requirement already satisfied: pyasn1<0.6.0,>=0.4.6 in /usr/local/lib/python3.10/dist-packages (from pyasn1-modules>=0.2.1->google-auth<3,>=1.6.3->tensorboard<2.14,>=2.13->tensorflow<2.14,>=2.13.0->tensorflow_text) (0.5.0)\n",
            "Requirement already satisfied: oauthlib>=3.0.0 in /usr/local/lib/python3.10/dist-packages (from requests-oauthlib>=0.7.0->google-auth-oauthlib<1.1,>=0.5->tensorboard<2.14,>=2.13->tensorflow<2.14,>=2.13.0->tensorflow_text) (3.2.2)\n"
          ]
        }
      ]
    },
    {
      "cell_type": "code",
      "source": [
        "pip install \"tf-models-official==2.13.*\""
      ],
      "metadata": {
        "id": "wAM2x3rS-7Q0"
      },
      "execution_count": null,
      "outputs": []
    },
    {
      "cell_type": "code",
      "source": [
        "import os\n",
        "import shutil\n",
        "\n",
        "import tensorflow as tf\n",
        "import tensorflow_hub as hub\n",
        "import tensorflow_text as text\n",
        "from official.nlp import optimization  # to create AdamW optimizer\n",
        "\n",
        "import matplotlib.pyplot as plt\n",
        "import pandas as pd\n",
        "import seaborn as sns"
      ],
      "metadata": {
        "id": "qdSXDKiM-kG-"
      },
      "execution_count": null,
      "outputs": []
    },
    {
      "cell_type": "code",
      "source": [
        "#setup the dataset\n",
        "test = 'https://raw.githubusercontent.com/beatlesatani/coding_september/main/test.csv'\n",
        "train = \"https://raw.githubusercontent.com/beatlesatani/coding_september/main/train.csv\"\n",
        "test = pd.read_csv(test,encoding='unicode_escape')\n",
        "train = pd.read_csv(train,encoding='unicode_escape')"
      ],
      "metadata": {
        "id": "qXofNuXf-knt"
      },
      "execution_count": null,
      "outputs": []
    },
    {
      "cell_type": "code",
      "source": [
        "# remove unusuful columns\n",
        "test = test.iloc[:,1:3]\n",
        "train = train.iloc[:, [1,3]]"
      ],
      "metadata": {
        "id": "mlTslt9oAAer"
      },
      "execution_count": null,
      "outputs": []
    },
    {
      "cell_type": "code",
      "source": [
        "#check the insull values of train dataframe\n",
        "train.isnull().sum()\n",
        "#only one text is missing, so drop that low that incluse null cell\n",
        "train = train.dropna()\n",
        "#re-check null values\n",
        "train.isnull().sum()"
      ],
      "metadata": {
        "id": "KFvPL8w_FE3X"
      },
      "execution_count": null,
      "outputs": []
    },
    {
      "cell_type": "code",
      "source": [
        "#check the insull values of train dataframe\n",
        "test.isnull().sum()"
      ],
      "metadata": {
        "id": "VzACJu4wFlZv"
      },
      "execution_count": null,
      "outputs": []
    },
    {
      "cell_type": "code",
      "source": [
        "#afeter checking original csv file, all raws after 3533 is null\n",
        "test = test.dropna()\n",
        "#re-check null values\n",
        "test.isnull().sum()"
      ],
      "metadata": {
        "id": "EBKpXjkWHIwT"
      },
      "execution_count": null,
      "outputs": []
    },
    {
      "cell_type": "code",
      "source": [],
      "metadata": {
        "id": "-yRNv8P4HI7Y"
      },
      "execution_count": null,
      "outputs": []
    },
    {
      "cell_type": "code",
      "source": [
        "#check the label imbalance\n",
        "train['sentiment'].value_counts(normalize=True)\n"
      ],
      "metadata": {
        "id": "BUOl5Sy1AkAG"
      },
      "execution_count": null,
      "outputs": []
    },
    {
      "cell_type": "code",
      "source": [
        "test['sentiment'].value_counts(normalize=True)"
      ],
      "metadata": {
        "id": "my_DM7K6Cpe4"
      },
      "execution_count": null,
      "outputs": []
    },
    {
      "cell_type": "code",
      "source": [
        "#graph\n",
        "fig, axes = plt.subplots(1, 2, figsize=(12, 5))\n",
        "\n",
        "sns.countplot(x='sentiment', data=train, ax=axes[0],saturation = 0.75)\n",
        "axes[0].set_title('Train Data')\n",
        "\n",
        "# Plot the countplot for 'sentiment' in the 'test' DataFrame\n",
        "sns.countplot(x='sentiment', data=test, ax=axes[1])\n",
        "axes[1].set_title('Test Data')\n",
        "\n",
        "# Adjust layout for better visibility\n",
        "plt.tight_layout()\n",
        "\n",
        "# Show the plots\n",
        "plt.show()\n"
      ],
      "metadata": {
        "id": "RCOBa7shB1cP"
      },
      "execution_count": null,
      "outputs": []
    },
    {
      "cell_type": "markdown",
      "source": [
        "## we can conclude the labels are not inbalanced"
      ],
      "metadata": {
        "id": "A5DsONK-DQtL"
      }
    },
    {
      "cell_type": "markdown",
      "source": [
        "## convert each sentiment into numerical value\n",
        "### neagtive → -1\n",
        "### neutral → 0\n",
        "### postive → 1"
      ],
      "metadata": {
        "id": "nObqoJSmHuzs"
      }
    },
    {
      "cell_type": "code",
      "source": [
        "#before working to the model, convert labels into numerical number\n",
        "train['label'] = train['sentiment'].apply(lambda x: -1 if x== 'negative' else(0 if x == 'neutral' else 1))\n",
        "train = train.drop('sentiment',axis = 1)\n",
        "test['label'] = test['sentiment'].apply(lambda x: -1 if x== 'negative' else(0 if x == 'neutral' else 1))\n",
        "test = test.drop('sentiment',axis = 1)"
      ],
      "metadata": {
        "id": "cv076-U7B-Yq"
      },
      "execution_count": null,
      "outputs": []
    },
    {
      "cell_type": "code",
      "source": [
        "train['label'].value_counts(normalize=True) # got same ratio before converting"
      ],
      "metadata": {
        "id": "G_g8oeWDEsIu"
      },
      "execution_count": null,
      "outputs": []
    },
    {
      "cell_type": "code",
      "source": [
        "train"
      ],
      "metadata": {
        "id": "Zyb_nVXDPZ4R"
      },
      "execution_count": null,
      "outputs": []
    },
    {
      "cell_type": "code",
      "source": [
        "#split the dataset\n",
        "X_train = train['text']\n",
        "y_train = train['label']\n",
        "X_test = test['text']\n",
        "y_test = test['label']"
      ],
      "metadata": {
        "id": "7r0vWKeZPW4k"
      },
      "execution_count": null,
      "outputs": []
    },
    {
      "cell_type": "markdown",
      "source": [
        "## data preprocessing part\n",
        "\n",
        "\n",
        "> Here, I use BERT not word2vec for fine-tuning cause BERT can cosider context.\n",
        "\n",
        "\n",
        "\n",
        "> Whole Process of the Model\n",
        "\n",
        "\n",
        "1.   text is imported in the InputLayer\n",
        "2.   In the BERT layer, texts are converted into the vector so that model can retrieve it\n",
        "3.  In the neural network layer, some parameter tuning is done\n",
        "\n",
        "\n",
        "\n",
        "\n",
        "\n",
        "\n",
        "![chart.png](data:image/png;base64,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)\n",
        "\n"
      ],
      "metadata": {
        "id": "O80xIcIMIjEX"
      }
    },
    {
      "cell_type": "code",
      "source": [
        "bert_preprocess= hub.KerasLayer('https://tfhub.dev/tensorflow/bert_en_uncased_preprocess/3')\n",
        "bert_encoder =  hub.KerasLayer('https://tfhub.dev/tensorflow/bert_en_uncased_L-12_H-768_A-12/4')"
      ],
      "metadata": {
        "id": "eWW22OQ0IIYw"
      },
      "execution_count": null,
      "outputs": []
    },
    {
      "cell_type": "code",
      "source": [
        "\n",
        "#binary classification ではないから注意\n",
        "def build_classifier_model():\n",
        "  # Bert layers\n",
        "  text_input = tf.keras.layers.Input(shape=(), dtype=tf.string, name='text')\n",
        "  preprocessed_text = bert_preprocess(text_input)\n",
        "  outputs = bert_encoder(preprocessed_text)  #here converted into the vector\n",
        "\n",
        "  # Neural network layers\n",
        "  l = tf.keras.layers.Dropout(0.1, name=\"dropout\")(outputs['pooled_output'])\n",
        "  l = tf.keras.layers.Dense(1, activation='sigmoid', name=\"output\")(l)\n",
        "\n",
        "  # Use inputs and outputs to construct a final model\n",
        "  model = tf.keras.Model(inputs=[text_input], outputs = [l])\n",
        "  return model"
      ],
      "metadata": {
        "id": "dwuEUTznLFmN"
      },
      "execution_count": null,
      "outputs": []
    },
    {
      "cell_type": "code",
      "source": [
        "classifier_model = build_classifier_model()"
      ],
      "metadata": {
        "id": "NvRd9lfyOGXE"
      },
      "execution_count": null,
      "outputs": []
    },
    {
      "cell_type": "code",
      "source": [
        "tf.keras.utils.plot_model(classifier_model)"
      ],
      "metadata": {
        "id": "DHC-IlC2My7V"
      },
      "execution_count": null,
      "outputs": []
    },
    {
      "cell_type": "code",
      "source": [],
      "metadata": {
        "id": "5_zRUfoeOvqF"
      },
      "execution_count": null,
      "outputs": []
    },
    {
      "cell_type": "code",
      "source": [],
      "metadata": {
        "id": "yJv3tgaEOvut"
      },
      "execution_count": null,
      "outputs": []
    },
    {
      "cell_type": "code",
      "source": [
        "#ここらへんのチューニング　さらに勉強する必要あり"
      ],
      "metadata": {
        "id": "XGwg0ZOTOvwp"
      },
      "execution_count": null,
      "outputs": []
    },
    {
      "cell_type": "code",
      "source": [
        "METRICS = [\n",
        "      tf.keras.metrics.CategoricalAccuracy(name='accuracy'),\n",
        "      tf.keras.metrics.Precision(name='precision'),\n",
        "      tf.keras.metrics.Recall(name='recall')\n",
        "]\n",
        "\n",
        "classifier_model.compile(optimizer='adam',\n",
        "              loss='CategoricalCrossentropy',\n",
        "              metrics=METRICS)\n"
      ],
      "metadata": {
        "id": "rVX6f3FyOEA2"
      },
      "execution_count": null,
      "outputs": []
    },
    {
      "cell_type": "code",
      "source": [
        "classifier_model.fit(X_train,y_train,epochs = 5)"
      ],
      "metadata": {
        "id": "8kFR-ICKOtvk"
      },
      "execution_count": null,
      "outputs": []
    },
    {
      "cell_type": "code",
      "source": [
        "#more parameter tuting section to improve accuracy"
      ],
      "metadata": {
        "id": "8kRKDdUPO0TG"
      },
      "execution_count": null,
      "outputs": []
    }
  ]
}
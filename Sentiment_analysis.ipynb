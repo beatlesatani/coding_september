{
  "nbformat": 4,
  "nbformat_minor": 0,
  "metadata": {
    "colab": {
      "provenance": [],
      "authorship_tag": "ABX9TyMdrHKfKt8oMvjPGtlofIgR",
      "include_colab_link": true
    },
    "kernelspec": {
      "name": "python3",
      "display_name": "Python 3"
    },
    "language_info": {
      "name": "python"
    }
  },
  "cells": [
    {
      "cell_type": "markdown",
      "metadata": {
        "id": "view-in-github",
        "colab_type": "text"
      },
      "source": [
        "<a href=\"https://colab.research.google.com/github/beatlesatani/coding_september/blob/main/Sentiment_analysis.ipynb\" target=\"_parent\"><img src=\"https://colab.research.google.com/assets/colab-badge.svg\" alt=\"Open In Colab\"/></a>"
      ]
    },
    {
      "cell_type": "code",
      "execution_count": 1,
      "metadata": {
        "id": "iPAXk6dq7eL6"
      },
      "outputs": [],
      "source": [
        "#use this website as a refenrece\n",
        "#https://qiita.com/omiita/items/1735c1d048fe5f611f80\n",
        "#https://www.youtube.com/watch?v=pXGBHV3y8rs&list=PLeo1K3hjS3uu7CxAacxVndI4bE_o3BDtO&index=12"
      ]
    },
    {
      "cell_type": "code",
      "source": [
        "# the dataset,train.csv and test.csv came from https://www.kaggle.com/datasets/abhi8923shriv/sentiment-analysis-dataset"
      ],
      "metadata": {
        "id": "1IckupOy7jxX"
      },
      "execution_count": 2,
      "outputs": []
    },
    {
      "cell_type": "code",
      "source": [
        "!pip install tensorflow_text"
      ],
      "metadata": {
        "colab": {
          "base_uri": "https://localhost:8080/"
        },
        "id": "eLUEDtFZ-Zih",
        "outputId": "7bc5a958-5900-45cf-b955-4cff3085709e"
      },
      "execution_count": 3,
      "outputs": [
        {
          "output_type": "stream",
          "name": "stdout",
          "text": [
            "Collecting tensorflow_text\n",
            "  Downloading tensorflow_text-2.13.0-cp310-cp310-manylinux_2_17_x86_64.manylinux2014_x86_64.whl (6.5 MB)\n",
            "\u001b[2K     \u001b[90m━━━━━━━━━━━━━━━━━━━━━━━━━━━━━━━━━━━━━━━━\u001b[0m \u001b[32m6.5/6.5 MB\u001b[0m \u001b[31m15.1 MB/s\u001b[0m eta \u001b[36m0:00:00\u001b[0m\n",
            "\u001b[?25hRequirement already satisfied: tensorflow-hub>=0.8.0 in /usr/local/lib/python3.10/dist-packages (from tensorflow_text) (0.14.0)\n",
            "Requirement already satisfied: tensorflow<2.14,>=2.13.0 in /usr/local/lib/python3.10/dist-packages (from tensorflow_text) (2.13.0)\n",
            "Requirement already satisfied: absl-py>=1.0.0 in /usr/local/lib/python3.10/dist-packages (from tensorflow<2.14,>=2.13.0->tensorflow_text) (1.4.0)\n",
            "Requirement already satisfied: astunparse>=1.6.0 in /usr/local/lib/python3.10/dist-packages (from tensorflow<2.14,>=2.13.0->tensorflow_text) (1.6.3)\n",
            "Requirement already satisfied: flatbuffers>=23.1.21 in /usr/local/lib/python3.10/dist-packages (from tensorflow<2.14,>=2.13.0->tensorflow_text) (23.5.26)\n",
            "Requirement already satisfied: gast<=0.4.0,>=0.2.1 in /usr/local/lib/python3.10/dist-packages (from tensorflow<2.14,>=2.13.0->tensorflow_text) (0.4.0)\n",
            "Requirement already satisfied: google-pasta>=0.1.1 in /usr/local/lib/python3.10/dist-packages (from tensorflow<2.14,>=2.13.0->tensorflow_text) (0.2.0)\n",
            "Requirement already satisfied: grpcio<2.0,>=1.24.3 in /usr/local/lib/python3.10/dist-packages (from tensorflow<2.14,>=2.13.0->tensorflow_text) (1.57.0)\n",
            "Requirement already satisfied: h5py>=2.9.0 in /usr/local/lib/python3.10/dist-packages (from tensorflow<2.14,>=2.13.0->tensorflow_text) (3.9.0)\n",
            "Requirement already satisfied: keras<2.14,>=2.13.1 in /usr/local/lib/python3.10/dist-packages (from tensorflow<2.14,>=2.13.0->tensorflow_text) (2.13.1)\n",
            "Requirement already satisfied: libclang>=13.0.0 in /usr/local/lib/python3.10/dist-packages (from tensorflow<2.14,>=2.13.0->tensorflow_text) (16.0.6)\n",
            "Requirement already satisfied: numpy<=1.24.3,>=1.22 in /usr/local/lib/python3.10/dist-packages (from tensorflow<2.14,>=2.13.0->tensorflow_text) (1.23.5)\n",
            "Requirement already satisfied: opt-einsum>=2.3.2 in /usr/local/lib/python3.10/dist-packages (from tensorflow<2.14,>=2.13.0->tensorflow_text) (3.3.0)\n",
            "Requirement already satisfied: packaging in /usr/local/lib/python3.10/dist-packages (from tensorflow<2.14,>=2.13.0->tensorflow_text) (23.1)\n",
            "Requirement already satisfied: protobuf!=4.21.0,!=4.21.1,!=4.21.2,!=4.21.3,!=4.21.4,!=4.21.5,<5.0.0dev,>=3.20.3 in /usr/local/lib/python3.10/dist-packages (from tensorflow<2.14,>=2.13.0->tensorflow_text) (3.20.3)\n",
            "Requirement already satisfied: setuptools in /usr/local/lib/python3.10/dist-packages (from tensorflow<2.14,>=2.13.0->tensorflow_text) (67.7.2)\n",
            "Requirement already satisfied: six>=1.12.0 in /usr/local/lib/python3.10/dist-packages (from tensorflow<2.14,>=2.13.0->tensorflow_text) (1.16.0)\n",
            "Requirement already satisfied: tensorboard<2.14,>=2.13 in /usr/local/lib/python3.10/dist-packages (from tensorflow<2.14,>=2.13.0->tensorflow_text) (2.13.0)\n",
            "Requirement already satisfied: tensorflow-estimator<2.14,>=2.13.0 in /usr/local/lib/python3.10/dist-packages (from tensorflow<2.14,>=2.13.0->tensorflow_text) (2.13.0)\n",
            "Requirement already satisfied: termcolor>=1.1.0 in /usr/local/lib/python3.10/dist-packages (from tensorflow<2.14,>=2.13.0->tensorflow_text) (2.3.0)\n",
            "Requirement already satisfied: typing-extensions<4.6.0,>=3.6.6 in /usr/local/lib/python3.10/dist-packages (from tensorflow<2.14,>=2.13.0->tensorflow_text) (4.5.0)\n",
            "Requirement already satisfied: wrapt>=1.11.0 in /usr/local/lib/python3.10/dist-packages (from tensorflow<2.14,>=2.13.0->tensorflow_text) (1.15.0)\n",
            "Requirement already satisfied: tensorflow-io-gcs-filesystem>=0.23.1 in /usr/local/lib/python3.10/dist-packages (from tensorflow<2.14,>=2.13.0->tensorflow_text) (0.33.0)\n",
            "Requirement already satisfied: wheel<1.0,>=0.23.0 in /usr/local/lib/python3.10/dist-packages (from astunparse>=1.6.0->tensorflow<2.14,>=2.13.0->tensorflow_text) (0.41.2)\n",
            "Requirement already satisfied: google-auth<3,>=1.6.3 in /usr/local/lib/python3.10/dist-packages (from tensorboard<2.14,>=2.13->tensorflow<2.14,>=2.13.0->tensorflow_text) (2.17.3)\n",
            "Requirement already satisfied: google-auth-oauthlib<1.1,>=0.5 in /usr/local/lib/python3.10/dist-packages (from tensorboard<2.14,>=2.13->tensorflow<2.14,>=2.13.0->tensorflow_text) (1.0.0)\n",
            "Requirement already satisfied: markdown>=2.6.8 in /usr/local/lib/python3.10/dist-packages (from tensorboard<2.14,>=2.13->tensorflow<2.14,>=2.13.0->tensorflow_text) (3.4.4)\n",
            "Requirement already satisfied: requests<3,>=2.21.0 in /usr/local/lib/python3.10/dist-packages (from tensorboard<2.14,>=2.13->tensorflow<2.14,>=2.13.0->tensorflow_text) (2.31.0)\n",
            "Requirement already satisfied: tensorboard-data-server<0.8.0,>=0.7.0 in /usr/local/lib/python3.10/dist-packages (from tensorboard<2.14,>=2.13->tensorflow<2.14,>=2.13.0->tensorflow_text) (0.7.1)\n",
            "Requirement already satisfied: werkzeug>=1.0.1 in /usr/local/lib/python3.10/dist-packages (from tensorboard<2.14,>=2.13->tensorflow<2.14,>=2.13.0->tensorflow_text) (2.3.7)\n",
            "Requirement already satisfied: cachetools<6.0,>=2.0.0 in /usr/local/lib/python3.10/dist-packages (from google-auth<3,>=1.6.3->tensorboard<2.14,>=2.13->tensorflow<2.14,>=2.13.0->tensorflow_text) (5.3.1)\n",
            "Requirement already satisfied: pyasn1-modules>=0.2.1 in /usr/local/lib/python3.10/dist-packages (from google-auth<3,>=1.6.3->tensorboard<2.14,>=2.13->tensorflow<2.14,>=2.13.0->tensorflow_text) (0.3.0)\n",
            "Requirement already satisfied: rsa<5,>=3.1.4 in /usr/local/lib/python3.10/dist-packages (from google-auth<3,>=1.6.3->tensorboard<2.14,>=2.13->tensorflow<2.14,>=2.13.0->tensorflow_text) (4.9)\n",
            "Requirement already satisfied: requests-oauthlib>=0.7.0 in /usr/local/lib/python3.10/dist-packages (from google-auth-oauthlib<1.1,>=0.5->tensorboard<2.14,>=2.13->tensorflow<2.14,>=2.13.0->tensorflow_text) (1.3.1)\n",
            "Requirement already satisfied: charset-normalizer<4,>=2 in /usr/local/lib/python3.10/dist-packages (from requests<3,>=2.21.0->tensorboard<2.14,>=2.13->tensorflow<2.14,>=2.13.0->tensorflow_text) (3.2.0)\n",
            "Requirement already satisfied: idna<4,>=2.5 in /usr/local/lib/python3.10/dist-packages (from requests<3,>=2.21.0->tensorboard<2.14,>=2.13->tensorflow<2.14,>=2.13.0->tensorflow_text) (3.4)\n",
            "Requirement already satisfied: urllib3<3,>=1.21.1 in /usr/local/lib/python3.10/dist-packages (from requests<3,>=2.21.0->tensorboard<2.14,>=2.13->tensorflow<2.14,>=2.13.0->tensorflow_text) (2.0.4)\n",
            "Requirement already satisfied: certifi>=2017.4.17 in /usr/local/lib/python3.10/dist-packages (from requests<3,>=2.21.0->tensorboard<2.14,>=2.13->tensorflow<2.14,>=2.13.0->tensorflow_text) (2023.7.22)\n",
            "Requirement already satisfied: MarkupSafe>=2.1.1 in /usr/local/lib/python3.10/dist-packages (from werkzeug>=1.0.1->tensorboard<2.14,>=2.13->tensorflow<2.14,>=2.13.0->tensorflow_text) (2.1.3)\n",
            "Requirement already satisfied: pyasn1<0.6.0,>=0.4.6 in /usr/local/lib/python3.10/dist-packages (from pyasn1-modules>=0.2.1->google-auth<3,>=1.6.3->tensorboard<2.14,>=2.13->tensorflow<2.14,>=2.13.0->tensorflow_text) (0.5.0)\n",
            "Requirement already satisfied: oauthlib>=3.0.0 in /usr/local/lib/python3.10/dist-packages (from requests-oauthlib>=0.7.0->google-auth-oauthlib<1.1,>=0.5->tensorboard<2.14,>=2.13->tensorflow<2.14,>=2.13.0->tensorflow_text) (3.2.2)\n",
            "Installing collected packages: tensorflow_text\n",
            "Successfully installed tensorflow_text-2.13.0\n"
          ]
        }
      ]
    },
    {
      "cell_type": "code",
      "source": [
        "pip install \"tf-models-official==2.13.*\""
      ],
      "metadata": {
        "colab": {
          "base_uri": "https://localhost:8080/"
        },
        "id": "wAM2x3rS-7Q0",
        "outputId": "647501b0-e30f-4ed1-ada5-da09e2d67178"
      },
      "execution_count": 4,
      "outputs": [
        {
          "output_type": "stream",
          "name": "stdout",
          "text": [
            "Collecting tf-models-official==2.13.*\n",
            "  Downloading tf_models_official-2.13.2-py2.py3-none-any.whl (2.6 MB)\n",
            "\u001b[2K     \u001b[90m━━━━━━━━━━━━━━━━━━━━━━━━━━━━━━━━━━━━━━━━\u001b[0m \u001b[32m2.6/2.6 MB\u001b[0m \u001b[31m10.5 MB/s\u001b[0m eta \u001b[36m0:00:00\u001b[0m\n",
            "\u001b[?25hRequirement already satisfied: Cython in /usr/local/lib/python3.10/dist-packages (from tf-models-official==2.13.*) (3.0.2)\n",
            "Requirement already satisfied: Pillow in /usr/local/lib/python3.10/dist-packages (from tf-models-official==2.13.*) (9.4.0)\n",
            "Requirement already satisfied: gin-config in /usr/local/lib/python3.10/dist-packages (from tf-models-official==2.13.*) (0.5.0)\n",
            "Requirement already satisfied: google-api-python-client>=1.6.7 in /usr/local/lib/python3.10/dist-packages (from tf-models-official==2.13.*) (2.84.0)\n",
            "Collecting immutabledict (from tf-models-official==2.13.*)\n",
            "  Downloading immutabledict-3.0.0-py3-none-any.whl (4.0 kB)\n",
            "Requirement already satisfied: kaggle>=1.3.9 in /usr/local/lib/python3.10/dist-packages (from tf-models-official==2.13.*) (1.5.16)\n",
            "Requirement already satisfied: matplotlib in /usr/local/lib/python3.10/dist-packages (from tf-models-official==2.13.*) (3.7.1)\n",
            "Requirement already satisfied: numpy>=1.20 in /usr/local/lib/python3.10/dist-packages (from tf-models-official==2.13.*) (1.23.5)\n",
            "Requirement already satisfied: oauth2client in /usr/local/lib/python3.10/dist-packages (from tf-models-official==2.13.*) (4.1.3)\n",
            "Requirement already satisfied: opencv-python-headless in /usr/local/lib/python3.10/dist-packages (from tf-models-official==2.13.*) (4.8.0.76)\n",
            "Requirement already satisfied: pandas>=0.22.0 in /usr/local/lib/python3.10/dist-packages (from tf-models-official==2.13.*) (1.5.3)\n",
            "Requirement already satisfied: psutil>=5.4.3 in /usr/local/lib/python3.10/dist-packages (from tf-models-official==2.13.*) (5.9.5)\n",
            "Requirement already satisfied: py-cpuinfo>=3.3.0 in /usr/local/lib/python3.10/dist-packages (from tf-models-official==2.13.*) (9.0.0)\n",
            "Requirement already satisfied: pycocotools in /usr/local/lib/python3.10/dist-packages (from tf-models-official==2.13.*) (2.0.7)\n",
            "Requirement already satisfied: pyyaml>=6.0.0 in /usr/local/lib/python3.10/dist-packages (from tf-models-official==2.13.*) (6.0.1)\n",
            "Collecting sacrebleu (from tf-models-official==2.13.*)\n",
            "  Downloading sacrebleu-2.3.1-py3-none-any.whl (118 kB)\n",
            "\u001b[2K     \u001b[90m━━━━━━━━━━━━━━━━━━━━━━━━━━━━━━━━━━━━━━\u001b[0m \u001b[32m118.9/118.9 kB\u001b[0m \u001b[31m13.8 MB/s\u001b[0m eta \u001b[36m0:00:00\u001b[0m\n",
            "\u001b[?25hRequirement already satisfied: scipy>=0.19.1 in /usr/local/lib/python3.10/dist-packages (from tf-models-official==2.13.*) (1.11.2)\n",
            "Collecting sentencepiece (from tf-models-official==2.13.*)\n",
            "  Downloading sentencepiece-0.1.99-cp310-cp310-manylinux_2_17_x86_64.manylinux2014_x86_64.whl (1.3 MB)\n",
            "\u001b[2K     \u001b[90m━━━━━━━━━━━━━━━━━━━━━━━━━━━━━━━━━━━━━━━━\u001b[0m \u001b[32m1.3/1.3 MB\u001b[0m \u001b[31m20.4 MB/s\u001b[0m eta \u001b[36m0:00:00\u001b[0m\n",
            "\u001b[?25hCollecting seqeval (from tf-models-official==2.13.*)\n",
            "  Downloading seqeval-1.2.2.tar.gz (43 kB)\n",
            "\u001b[2K     \u001b[90m━━━━━━━━━━━━━━━━━━━━━━━━━━━━━━━━━━━━━━━━\u001b[0m \u001b[32m43.6/43.6 kB\u001b[0m \u001b[31m4.1 MB/s\u001b[0m eta \u001b[36m0:00:00\u001b[0m\n",
            "\u001b[?25h  Preparing metadata (setup.py) ... \u001b[?25l\u001b[?25hdone\n",
            "Requirement already satisfied: six in /usr/local/lib/python3.10/dist-packages (from tf-models-official==2.13.*) (1.16.0)\n",
            "Requirement already satisfied: tensorflow-datasets in /usr/local/lib/python3.10/dist-packages (from tf-models-official==2.13.*) (4.9.2)\n",
            "Requirement already satisfied: tensorflow-hub>=0.6.0 in /usr/local/lib/python3.10/dist-packages (from tf-models-official==2.13.*) (0.14.0)\n",
            "Collecting tensorflow-model-optimization>=0.4.1 (from tf-models-official==2.13.*)\n",
            "  Downloading tensorflow_model_optimization-0.7.5-py2.py3-none-any.whl (241 kB)\n",
            "\u001b[2K     \u001b[90m━━━━━━━━━━━━━━━━━━━━━━━━━━━━━━━━━━━━━━\u001b[0m \u001b[32m241.2/241.2 kB\u001b[0m \u001b[31m19.0 MB/s\u001b[0m eta \u001b[36m0:00:00\u001b[0m\n",
            "\u001b[?25hRequirement already satisfied: tensorflow-text~=2.13.0 in /usr/local/lib/python3.10/dist-packages (from tf-models-official==2.13.*) (2.13.0)\n",
            "Requirement already satisfied: tensorflow~=2.13.0 in /usr/local/lib/python3.10/dist-packages (from tf-models-official==2.13.*) (2.13.0)\n",
            "Requirement already satisfied: tf-slim>=1.1.0 in /usr/local/lib/python3.10/dist-packages (from tf-models-official==2.13.*) (1.1.0)\n",
            "Requirement already satisfied: httplib2<1dev,>=0.15.0 in /usr/local/lib/python3.10/dist-packages (from google-api-python-client>=1.6.7->tf-models-official==2.13.*) (0.22.0)\n",
            "Requirement already satisfied: google-auth<3.0.0dev,>=1.19.0 in /usr/local/lib/python3.10/dist-packages (from google-api-python-client>=1.6.7->tf-models-official==2.13.*) (2.17.3)\n",
            "Requirement already satisfied: google-auth-httplib2>=0.1.0 in /usr/local/lib/python3.10/dist-packages (from google-api-python-client>=1.6.7->tf-models-official==2.13.*) (0.1.0)\n",
            "Requirement already satisfied: google-api-core!=2.0.*,!=2.1.*,!=2.2.*,!=2.3.0,<3.0.0dev,>=1.31.5 in /usr/local/lib/python3.10/dist-packages (from google-api-python-client>=1.6.7->tf-models-official==2.13.*) (2.11.1)\n",
            "Requirement already satisfied: uritemplate<5,>=3.0.1 in /usr/local/lib/python3.10/dist-packages (from google-api-python-client>=1.6.7->tf-models-official==2.13.*) (4.1.1)\n",
            "Requirement already satisfied: certifi in /usr/local/lib/python3.10/dist-packages (from kaggle>=1.3.9->tf-models-official==2.13.*) (2023.7.22)\n",
            "Requirement already satisfied: python-dateutil in /usr/local/lib/python3.10/dist-packages (from kaggle>=1.3.9->tf-models-official==2.13.*) (2.8.2)\n",
            "Requirement already satisfied: requests in /usr/local/lib/python3.10/dist-packages (from kaggle>=1.3.9->tf-models-official==2.13.*) (2.31.0)\n",
            "Requirement already satisfied: tqdm in /usr/local/lib/python3.10/dist-packages (from kaggle>=1.3.9->tf-models-official==2.13.*) (4.66.1)\n",
            "Requirement already satisfied: python-slugify in /usr/local/lib/python3.10/dist-packages (from kaggle>=1.3.9->tf-models-official==2.13.*) (8.0.1)\n",
            "Requirement already satisfied: urllib3 in /usr/local/lib/python3.10/dist-packages (from kaggle>=1.3.9->tf-models-official==2.13.*) (2.0.4)\n",
            "Requirement already satisfied: bleach in /usr/local/lib/python3.10/dist-packages (from kaggle>=1.3.9->tf-models-official==2.13.*) (6.0.0)\n",
            "Requirement already satisfied: pytz>=2020.1 in /usr/local/lib/python3.10/dist-packages (from pandas>=0.22.0->tf-models-official==2.13.*) (2023.3.post1)\n",
            "Requirement already satisfied: absl-py>=1.0.0 in /usr/local/lib/python3.10/dist-packages (from tensorflow~=2.13.0->tf-models-official==2.13.*) (1.4.0)\n",
            "Requirement already satisfied: astunparse>=1.6.0 in /usr/local/lib/python3.10/dist-packages (from tensorflow~=2.13.0->tf-models-official==2.13.*) (1.6.3)\n",
            "Requirement already satisfied: flatbuffers>=23.1.21 in /usr/local/lib/python3.10/dist-packages (from tensorflow~=2.13.0->tf-models-official==2.13.*) (23.5.26)\n",
            "Requirement already satisfied: gast<=0.4.0,>=0.2.1 in /usr/local/lib/python3.10/dist-packages (from tensorflow~=2.13.0->tf-models-official==2.13.*) (0.4.0)\n",
            "Requirement already satisfied: google-pasta>=0.1.1 in /usr/local/lib/python3.10/dist-packages (from tensorflow~=2.13.0->tf-models-official==2.13.*) (0.2.0)\n",
            "Requirement already satisfied: grpcio<2.0,>=1.24.3 in /usr/local/lib/python3.10/dist-packages (from tensorflow~=2.13.0->tf-models-official==2.13.*) (1.57.0)\n",
            "Requirement already satisfied: h5py>=2.9.0 in /usr/local/lib/python3.10/dist-packages (from tensorflow~=2.13.0->tf-models-official==2.13.*) (3.9.0)\n",
            "Requirement already satisfied: keras<2.14,>=2.13.1 in /usr/local/lib/python3.10/dist-packages (from tensorflow~=2.13.0->tf-models-official==2.13.*) (2.13.1)\n",
            "Requirement already satisfied: libclang>=13.0.0 in /usr/local/lib/python3.10/dist-packages (from tensorflow~=2.13.0->tf-models-official==2.13.*) (16.0.6)\n",
            "Requirement already satisfied: opt-einsum>=2.3.2 in /usr/local/lib/python3.10/dist-packages (from tensorflow~=2.13.0->tf-models-official==2.13.*) (3.3.0)\n",
            "Requirement already satisfied: packaging in /usr/local/lib/python3.10/dist-packages (from tensorflow~=2.13.0->tf-models-official==2.13.*) (23.1)\n",
            "Requirement already satisfied: protobuf!=4.21.0,!=4.21.1,!=4.21.2,!=4.21.3,!=4.21.4,!=4.21.5,<5.0.0dev,>=3.20.3 in /usr/local/lib/python3.10/dist-packages (from tensorflow~=2.13.0->tf-models-official==2.13.*) (3.20.3)\n",
            "Requirement already satisfied: setuptools in /usr/local/lib/python3.10/dist-packages (from tensorflow~=2.13.0->tf-models-official==2.13.*) (67.7.2)\n",
            "Requirement already satisfied: tensorboard<2.14,>=2.13 in /usr/local/lib/python3.10/dist-packages (from tensorflow~=2.13.0->tf-models-official==2.13.*) (2.13.0)\n",
            "Requirement already satisfied: tensorflow-estimator<2.14,>=2.13.0 in /usr/local/lib/python3.10/dist-packages (from tensorflow~=2.13.0->tf-models-official==2.13.*) (2.13.0)\n",
            "Requirement already satisfied: termcolor>=1.1.0 in /usr/local/lib/python3.10/dist-packages (from tensorflow~=2.13.0->tf-models-official==2.13.*) (2.3.0)\n",
            "Requirement already satisfied: typing-extensions<4.6.0,>=3.6.6 in /usr/local/lib/python3.10/dist-packages (from tensorflow~=2.13.0->tf-models-official==2.13.*) (4.5.0)\n",
            "Requirement already satisfied: wrapt>=1.11.0 in /usr/local/lib/python3.10/dist-packages (from tensorflow~=2.13.0->tf-models-official==2.13.*) (1.15.0)\n",
            "Requirement already satisfied: tensorflow-io-gcs-filesystem>=0.23.1 in /usr/local/lib/python3.10/dist-packages (from tensorflow~=2.13.0->tf-models-official==2.13.*) (0.33.0)\n",
            "Requirement already satisfied: dm-tree~=0.1.1 in /usr/local/lib/python3.10/dist-packages (from tensorflow-model-optimization>=0.4.1->tf-models-official==2.13.*) (0.1.8)\n",
            "Requirement already satisfied: contourpy>=1.0.1 in /usr/local/lib/python3.10/dist-packages (from matplotlib->tf-models-official==2.13.*) (1.1.0)\n",
            "Requirement already satisfied: cycler>=0.10 in /usr/local/lib/python3.10/dist-packages (from matplotlib->tf-models-official==2.13.*) (0.11.0)\n",
            "Requirement already satisfied: fonttools>=4.22.0 in /usr/local/lib/python3.10/dist-packages (from matplotlib->tf-models-official==2.13.*) (4.42.1)\n",
            "Requirement already satisfied: kiwisolver>=1.0.1 in /usr/local/lib/python3.10/dist-packages (from matplotlib->tf-models-official==2.13.*) (1.4.5)\n",
            "Requirement already satisfied: pyparsing>=2.3.1 in /usr/local/lib/python3.10/dist-packages (from matplotlib->tf-models-official==2.13.*) (3.1.1)\n",
            "Requirement already satisfied: pyasn1>=0.1.7 in /usr/local/lib/python3.10/dist-packages (from oauth2client->tf-models-official==2.13.*) (0.5.0)\n",
            "Requirement already satisfied: pyasn1-modules>=0.0.5 in /usr/local/lib/python3.10/dist-packages (from oauth2client->tf-models-official==2.13.*) (0.3.0)\n",
            "Requirement already satisfied: rsa>=3.1.4 in /usr/local/lib/python3.10/dist-packages (from oauth2client->tf-models-official==2.13.*) (4.9)\n",
            "Collecting portalocker (from sacrebleu->tf-models-official==2.13.*)\n",
            "  Downloading portalocker-2.8.2-py3-none-any.whl (17 kB)\n",
            "Requirement already satisfied: regex in /usr/local/lib/python3.10/dist-packages (from sacrebleu->tf-models-official==2.13.*) (2023.6.3)\n",
            "Requirement already satisfied: tabulate>=0.8.9 in /usr/local/lib/python3.10/dist-packages (from sacrebleu->tf-models-official==2.13.*) (0.9.0)\n",
            "Collecting colorama (from sacrebleu->tf-models-official==2.13.*)\n",
            "  Downloading colorama-0.4.6-py2.py3-none-any.whl (25 kB)\n",
            "Requirement already satisfied: lxml in /usr/local/lib/python3.10/dist-packages (from sacrebleu->tf-models-official==2.13.*) (4.9.3)\n",
            "Requirement already satisfied: scikit-learn>=0.21.3 in /usr/local/lib/python3.10/dist-packages (from seqeval->tf-models-official==2.13.*) (1.2.2)\n",
            "Requirement already satisfied: array-record in /usr/local/lib/python3.10/dist-packages (from tensorflow-datasets->tf-models-official==2.13.*) (0.4.1)\n",
            "Requirement already satisfied: click in /usr/local/lib/python3.10/dist-packages (from tensorflow-datasets->tf-models-official==2.13.*) (8.1.7)\n",
            "Requirement already satisfied: etils[enp,epath]>=0.9.0 in /usr/local/lib/python3.10/dist-packages (from tensorflow-datasets->tf-models-official==2.13.*) (1.4.1)\n",
            "Requirement already satisfied: promise in /usr/local/lib/python3.10/dist-packages (from tensorflow-datasets->tf-models-official==2.13.*) (2.3)\n",
            "Requirement already satisfied: tensorflow-metadata in /usr/local/lib/python3.10/dist-packages (from tensorflow-datasets->tf-models-official==2.13.*) (1.14.0)\n",
            "Requirement already satisfied: toml in /usr/local/lib/python3.10/dist-packages (from tensorflow-datasets->tf-models-official==2.13.*) (0.10.2)\n",
            "Requirement already satisfied: wheel<1.0,>=0.23.0 in /usr/local/lib/python3.10/dist-packages (from astunparse>=1.6.0->tensorflow~=2.13.0->tf-models-official==2.13.*) (0.41.2)\n",
            "Requirement already satisfied: importlib_resources in /usr/local/lib/python3.10/dist-packages (from etils[enp,epath]>=0.9.0->tensorflow-datasets->tf-models-official==2.13.*) (6.0.1)\n",
            "Requirement already satisfied: zipp in /usr/local/lib/python3.10/dist-packages (from etils[enp,epath]>=0.9.0->tensorflow-datasets->tf-models-official==2.13.*) (3.16.2)\n",
            "Requirement already satisfied: googleapis-common-protos<2.0.dev0,>=1.56.2 in /usr/local/lib/python3.10/dist-packages (from google-api-core!=2.0.*,!=2.1.*,!=2.2.*,!=2.3.0,<3.0.0dev,>=1.31.5->google-api-python-client>=1.6.7->tf-models-official==2.13.*) (1.60.0)\n",
            "Requirement already satisfied: cachetools<6.0,>=2.0.0 in /usr/local/lib/python3.10/dist-packages (from google-auth<3.0.0dev,>=1.19.0->google-api-python-client>=1.6.7->tf-models-official==2.13.*) (5.3.1)\n",
            "Requirement already satisfied: charset-normalizer<4,>=2 in /usr/local/lib/python3.10/dist-packages (from requests->kaggle>=1.3.9->tf-models-official==2.13.*) (3.2.0)\n",
            "Requirement already satisfied: idna<4,>=2.5 in /usr/local/lib/python3.10/dist-packages (from requests->kaggle>=1.3.9->tf-models-official==2.13.*) (3.4)\n",
            "Requirement already satisfied: joblib>=1.1.1 in /usr/local/lib/python3.10/dist-packages (from scikit-learn>=0.21.3->seqeval->tf-models-official==2.13.*) (1.3.2)\n",
            "Requirement already satisfied: threadpoolctl>=2.0.0 in /usr/local/lib/python3.10/dist-packages (from scikit-learn>=0.21.3->seqeval->tf-models-official==2.13.*) (3.2.0)\n",
            "Requirement already satisfied: google-auth-oauthlib<1.1,>=0.5 in /usr/local/lib/python3.10/dist-packages (from tensorboard<2.14,>=2.13->tensorflow~=2.13.0->tf-models-official==2.13.*) (1.0.0)\n",
            "Requirement already satisfied: markdown>=2.6.8 in /usr/local/lib/python3.10/dist-packages (from tensorboard<2.14,>=2.13->tensorflow~=2.13.0->tf-models-official==2.13.*) (3.4.4)\n",
            "Requirement already satisfied: tensorboard-data-server<0.8.0,>=0.7.0 in /usr/local/lib/python3.10/dist-packages (from tensorboard<2.14,>=2.13->tensorflow~=2.13.0->tf-models-official==2.13.*) (0.7.1)\n",
            "Requirement already satisfied: werkzeug>=1.0.1 in /usr/local/lib/python3.10/dist-packages (from tensorboard<2.14,>=2.13->tensorflow~=2.13.0->tf-models-official==2.13.*) (2.3.7)\n",
            "Requirement already satisfied: webencodings in /usr/local/lib/python3.10/dist-packages (from bleach->kaggle>=1.3.9->tf-models-official==2.13.*) (0.5.1)\n",
            "Requirement already satisfied: text-unidecode>=1.3 in /usr/local/lib/python3.10/dist-packages (from python-slugify->kaggle>=1.3.9->tf-models-official==2.13.*) (1.3)\n",
            "Requirement already satisfied: requests-oauthlib>=0.7.0 in /usr/local/lib/python3.10/dist-packages (from google-auth-oauthlib<1.1,>=0.5->tensorboard<2.14,>=2.13->tensorflow~=2.13.0->tf-models-official==2.13.*) (1.3.1)\n",
            "Requirement already satisfied: MarkupSafe>=2.1.1 in /usr/local/lib/python3.10/dist-packages (from werkzeug>=1.0.1->tensorboard<2.14,>=2.13->tensorflow~=2.13.0->tf-models-official==2.13.*) (2.1.3)\n",
            "Requirement already satisfied: oauthlib>=3.0.0 in /usr/local/lib/python3.10/dist-packages (from requests-oauthlib>=0.7.0->google-auth-oauthlib<1.1,>=0.5->tensorboard<2.14,>=2.13->tensorflow~=2.13.0->tf-models-official==2.13.*) (3.2.2)\n",
            "Building wheels for collected packages: seqeval\n",
            "  Building wheel for seqeval (setup.py) ... \u001b[?25l\u001b[?25hdone\n",
            "  Created wheel for seqeval: filename=seqeval-1.2.2-py3-none-any.whl size=16162 sha256=b715d915d45ee54cf41b36a11c79703186cb291b68e24df8cdcf69fa7951ece9\n",
            "  Stored in directory: /root/.cache/pip/wheels/1a/67/4a/ad4082dd7dfc30f2abfe4d80a2ed5926a506eb8a972b4767fa\n",
            "Successfully built seqeval\n",
            "Installing collected packages: sentencepiece, tensorflow-model-optimization, portalocker, immutabledict, colorama, sacrebleu, seqeval, tf-models-official\n",
            "Successfully installed colorama-0.4.6 immutabledict-3.0.0 portalocker-2.8.2 sacrebleu-2.3.1 sentencepiece-0.1.99 seqeval-1.2.2 tensorflow-model-optimization-0.7.5 tf-models-official-2.13.2\n"
          ]
        }
      ]
    },
    {
      "cell_type": "code",
      "source": [
        "import os\n",
        "import shutil\n",
        "\n",
        "import tensorflow as tf\n",
        "import tensorflow_hub as hub\n",
        "import tensorflow_text as text\n",
        "from official.nlp import optimization  # to create AdamW optimizer\n",
        "\n",
        "import matplotlib.pyplot as plt\n",
        "import pandas as pd\n",
        "import seaborn as sns"
      ],
      "metadata": {
        "id": "qdSXDKiM-kG-"
      },
      "execution_count": 5,
      "outputs": []
    },
    {
      "cell_type": "code",
      "source": [
        "#setup the dataset\n",
        "test = 'https://raw.githubusercontent.com/beatlesatani/coding_september/main/test.csv'\n",
        "train = \"https://raw.githubusercontent.com/beatlesatani/coding_september/main/train.csv\"\n",
        "test = pd.read_csv(test,encoding='unicode_escape')\n",
        "train = pd.read_csv(train,encoding='unicode_escape')"
      ],
      "metadata": {
        "id": "qXofNuXf-knt"
      },
      "execution_count": 6,
      "outputs": []
    },
    {
      "cell_type": "code",
      "source": [
        "# remove unusuful columns\n",
        "test = test.iloc[:,1:3]\n",
        "train = train.iloc[:, [1,3]]"
      ],
      "metadata": {
        "id": "mlTslt9oAAer"
      },
      "execution_count": 7,
      "outputs": []
    },
    {
      "cell_type": "code",
      "source": [
        "#check the insull values of train dataframe\n",
        "train.isnull().sum()\n",
        "#only one text is missing, so drop that low that incluse null cell\n",
        "train = train.dropna()\n",
        "#re-check null values\n",
        "train.isnull().sum()"
      ],
      "metadata": {
        "colab": {
          "base_uri": "https://localhost:8080/"
        },
        "id": "KFvPL8w_FE3X",
        "outputId": "ade66bc6-4918-4097-c724-55b0af88a3bb"
      },
      "execution_count": 8,
      "outputs": [
        {
          "output_type": "execute_result",
          "data": {
            "text/plain": [
              "text         0\n",
              "sentiment    0\n",
              "dtype: int64"
            ]
          },
          "metadata": {},
          "execution_count": 8
        }
      ]
    },
    {
      "cell_type": "code",
      "source": [
        "#check the insull values of train dataframe\n",
        "test.isnull().sum()"
      ],
      "metadata": {
        "colab": {
          "base_uri": "https://localhost:8080/"
        },
        "id": "VzACJu4wFlZv",
        "outputId": "7b7c451f-745c-4893-927e-656bea6af8cb"
      },
      "execution_count": 9,
      "outputs": [
        {
          "output_type": "execute_result",
          "data": {
            "text/plain": [
              "text         1281\n",
              "sentiment    1281\n",
              "dtype: int64"
            ]
          },
          "metadata": {},
          "execution_count": 9
        }
      ]
    },
    {
      "cell_type": "code",
      "source": [
        "#afeter checking original csv file, all raws after 3533 is null\n",
        "test = test.dropna()\n",
        "#re-check null values\n",
        "test.isnull().sum()"
      ],
      "metadata": {
        "colab": {
          "base_uri": "https://localhost:8080/"
        },
        "id": "EBKpXjkWHIwT",
        "outputId": "d3acbef1-9d71-42c9-a168-c04ebc17e48e"
      },
      "execution_count": 10,
      "outputs": [
        {
          "output_type": "execute_result",
          "data": {
            "text/plain": [
              "text         0\n",
              "sentiment    0\n",
              "dtype: int64"
            ]
          },
          "metadata": {},
          "execution_count": 10
        }
      ]
    },
    {
      "cell_type": "code",
      "source": [],
      "metadata": {
        "id": "-yRNv8P4HI7Y"
      },
      "execution_count": 10,
      "outputs": []
    },
    {
      "cell_type": "code",
      "source": [
        "#check the label imbalance\n",
        "train['sentiment'].value_counts(normalize=True)\n"
      ],
      "metadata": {
        "colab": {
          "base_uri": "https://localhost:8080/"
        },
        "id": "BUOl5Sy1AkAG",
        "outputId": "e558771b-18a1-4bbc-ab01-9d771c6a7da1"
      },
      "execution_count": 11,
      "outputs": [
        {
          "output_type": "execute_result",
          "data": {
            "text/plain": [
              "neutral     0.404549\n",
              "positive    0.312300\n",
              "negative    0.283151\n",
              "Name: sentiment, dtype: float64"
            ]
          },
          "metadata": {},
          "execution_count": 11
        }
      ]
    },
    {
      "cell_type": "code",
      "source": [
        "test['sentiment'].value_counts(normalize=True)"
      ],
      "metadata": {
        "colab": {
          "base_uri": "https://localhost:8080/"
        },
        "id": "my_DM7K6Cpe4",
        "outputId": "93961095-9bbf-4115-dbfb-cd6ae3750cd0"
      },
      "execution_count": 12,
      "outputs": [
        {
          "output_type": "execute_result",
          "data": {
            "text/plain": [
              "neutral     0.404641\n",
              "positive    0.312111\n",
              "negative    0.283248\n",
              "Name: sentiment, dtype: float64"
            ]
          },
          "metadata": {},
          "execution_count": 12
        }
      ]
    },
    {
      "cell_type": "code",
      "source": [
        "#graph\n",
        "fig, axes = plt.subplots(1, 2, figsize=(12, 5))\n",
        "\n",
        "sns.countplot(x='sentiment', data=train, ax=axes[0],saturation = 0.75)\n",
        "axes[0].set_title('Train Data')\n",
        "\n",
        "# Plot the countplot for 'sentiment' in the 'test' DataFrame\n",
        "sns.countplot(x='sentiment', data=test, ax=axes[1])\n",
        "axes[1].set_title('Test Data')\n",
        "\n",
        "# Adjust layout for better visibility\n",
        "plt.tight_layout()\n",
        "\n",
        "# Show the plots\n",
        "plt.show()\n"
      ],
      "metadata": {
        "colab": {
          "base_uri": "https://localhost:8080/",
          "height": 507
        },
        "id": "RCOBa7shB1cP",
        "outputId": "d507793e-e170-4597-c34e-291d3598df6a"
      },
      "execution_count": 13,
      "outputs": [
        {
          "output_type": "display_data",
          "data": {
            "text/plain": [
              "<Figure size 1200x500 with 2 Axes>"
            ],
            "image/png": "[encoded data removed]"
          },
          "metadata": {}
        }
      ]
    },
    {
      "cell_type": "markdown",
      "source": [
        "## we can conclude the labels are not inbalanced"
      ],
      "metadata": {
        "id": "A5DsONK-DQtL"
      }
    },
    {
      "cell_type": "markdown",
      "source": [
        "## convert each sentiment into numerical value\n",
        "### neagtive → -1\n",
        "### neutral → 0\n",
        "### postive → 1"
      ],
      "metadata": {
        "id": "nObqoJSmHuzs"
      }
    },
    {
      "cell_type": "code",
      "source": [
        "#before working to the model, convert labels into numerical number\n",
        "train['label'] = train['sentiment'].apply(lambda x: -1 if x== 'negative' else(0 if x == 'neutral' else 1))\n",
        "train = train.drop('sentiment',axis = 1)\n",
        "test['label'] = test['sentiment'].apply(lambda x: -1 if x== 'negative' else(0 if x == 'neutral' else 1))\n",
        "test = test.drop('sentiment',axis = 1)"
      ],
      "metadata": {
        "id": "cv076-U7B-Yq"
      },
      "execution_count": 14,
      "outputs": []
    },
    {
      "cell_type": "code",
      "source": [
        "train['label'].value_counts(normalize=True) # got same ratio before converting"
      ],
      "metadata": {
        "colab": {
          "base_uri": "https://localhost:8080/"
        },
        "id": "G_g8oeWDEsIu",
        "outputId": "715bc19f-eb18-4e19-857b-b2e260135a8d"
      },
      "execution_count": 15,
      "outputs": [
        {
          "output_type": "execute_result",
          "data": {
            "text/plain": [
              " 0    0.404549\n",
              " 1    0.312300\n",
              "-1    0.283151\n",
              "Name: label, dtype: float64"
            ]
          },
          "metadata": {},
          "execution_count": 15
        }
      ]
    },
    {
      "cell_type": "code",
      "source": [
        "train"
      ],
      "metadata": {
        "colab": {
          "base_uri": "https://localhost:8080/",
          "height": 424
        },
        "id": "Zyb_nVXDPZ4R",
        "outputId": "5a9fd96f-c9e9-4732-c5ec-f1a7dc99040d"
      },
      "execution_count": 16,
      "outputs": [
        {
          "output_type": "execute_result",
          "data": {
            "text/plain": [
              "                                                    text  label\n",
              "0                    I`d have responded, if I were going      0\n",
              "1          Sooo SAD I will miss you here in San Diego!!!     -1\n",
              "2                              my boss is bullying me...     -1\n",
              "3                         what interview! leave me alone     -1\n",
              "4       Sons of ****, why couldn`t they put them on t...     -1\n",
              "...                                                  ...    ...\n",
              "27476   wish we could come see u on Denver  husband l...     -1\n",
              "27477   I`ve wondered about rake to.  The client has ...     -1\n",
              "27478   Yay good for both of you. Enjoy the break - y...      1\n",
              "27479                         But it was worth it  ****.      1\n",
              "27480     All this flirting going on - The ATG smiles...      0\n",
              "\n",
              "[27480 rows x 2 columns]"
            ],
            "text/html": [
              "\n",
              "  <div id=\"df-22455b08-485b-4c5e-a6c6-0a050346be7f\" class=\"colab-df-container\">\n",
              "    <div>\n",
              "<style scoped>\n",
              "    .dataframe tbody tr th:only-of-type {\n",
              "        vertical-align: middle;\n",
              "    }\n",
              "\n",
              "    .dataframe tbody tr th {\n",
              "        vertical-align: top;\n",
              "    }\n",
              "\n",
              "    .dataframe thead th {\n",
              "        text-align: right;\n",
              "    }\n",
              "</style>\n",
              "<table border=\"1\" class=\"dataframe\">\n",
              "  <thead>\n",
              "    <tr style=\"text-align: right;\">\n",
              "      <th></th>\n",
              "      <th>text</th>\n",
              "      <th>label</th>\n",
              "    </tr>\n",
              "  </thead>\n",
              "  <tbody>\n",
              "    <tr>\n",
              "      <th>0</th>\n",
              "      <td>I`d have responded, if I were going</td>\n",
              "      <td>0</td>\n",
              "    </tr>\n",
              "    <tr>\n",
              "      <th>1</th>\n",
              "      <td>Sooo SAD I will miss you here in San Diego!!!</td>\n",
              "      <td>-1</td>\n",
              "    </tr>\n",
              "    <tr>\n",
              "      <th>2</th>\n",
              "      <td>my boss is bullying me...</td>\n",
              "      <td>-1</td>\n",
              "    </tr>\n",
              "    <tr>\n",
              "      <th>3</th>\n",
              "      <td>what interview! leave me alone</td>\n",
              "      <td>-1</td>\n",
              "    </tr>\n",
              "    <tr>\n",
              "      <th>4</th>\n",
              "      <td>Sons of ****, why couldn`t they put them on t...</td>\n",
              "      <td>-1</td>\n",
              "    </tr>\n",
              "    <tr>\n",
              "      <th>...</th>\n",
              "      <td>...</td>\n",
              "      <td>...</td>\n",
              "    </tr>\n",
              "    <tr>\n",
              "      <th>27476</th>\n",
              "      <td>wish we could come see u on Denver  husband l...</td>\n",
              "      <td>-1</td>\n",
              "    </tr>\n",
              "    <tr>\n",
              "      <th>27477</th>\n",
              "      <td>I`ve wondered about rake to.  The client has ...</td>\n",
              "      <td>-1</td>\n",
              "    </tr>\n",
              "    <tr>\n",
              "      <th>27478</th>\n",
              "      <td>Yay good for both of you. Enjoy the break - y...</td>\n",
              "      <td>1</td>\n",
              "    </tr>\n",
              "    <tr>\n",
              "      <th>27479</th>\n",
              "      <td>But it was worth it  ****.</td>\n",
              "      <td>1</td>\n",
              "    </tr>\n",
              "    <tr>\n",
              "      <th>27480</th>\n",
              "      <td>All this flirting going on - The ATG smiles...</td>\n",
              "      <td>0</td>\n",
              "    </tr>\n",
              "  </tbody>\n",
              "</table>\n",
              "<p>27480 rows × 2 columns</p>\n",
              "</div>\n",
              "    <div class=\"colab-df-buttons\">\n",
              "\n",
              "  <div class=\"colab-df-container\">\n",
              "    <button class=\"colab-df-convert\" onclick=\"convertToInteractive('df-22455b08-485b-4c5e-a6c6-0a050346be7f')\"\n",
              "            title=\"Convert this dataframe to an interactive table.\"\n",
              "            style=\"display:none;\">\n",
              "\n",
              "  <svg xmlns=\"http://www.w3.org/2000/svg\" height=\"24px\" viewBox=\"0 -960 960 960\">\n",
              "    <path d=\"M120-120v-720h720v720H120Zm60-500h600v-160H180v160Zm220 220h160v-160H400v160Zm0 220h160v-160H400v160ZM180-400h160v-160H180v160Zm440 0h160v-160H620v160ZM180-180h160v-160H180v160Zm440 0h160v-160H620v160Z\"/>\n",
              "  </svg>\n",
              "    </button>\n",
              "\n",
              "  <style>\n",
              "    .colab-df-container {\n",
              "      display:flex;\n",
              "      gap: 12px;\n",
              "    }\n",
              "\n",
              "    .colab-df-convert {\n",
              "      background-color: #E8F0FE;\n",
              "      border: none;\n",
              "      border-radius: 50%;\n",
              "      cursor: pointer;\n",
              "      display: none;\n",
              "      fill: #1967D2;\n",
              "      height: 32px;\n",
              "      padding: 0 0 0 0;\n",
              "      width: 32px;\n",
              "    }\n",
              "\n",
              "    .colab-df-convert:hover {\n",
              "      background-color: #E2EBFA;\n",
              "      box-shadow: 0px 1px 2px rgba(60, 64, 67, 0.3), 0px 1px 3px 1px rgba(60, 64, 67, 0.15);\n",
              "      fill: #174EA6;\n",
              "    }\n",
              "\n",
              "    .colab-df-buttons div {\n",
              "      margin-bottom: 4px;\n",
              "    }\n",
              "\n",
              "    [theme=dark] .colab-df-convert {\n",
              "      background-color: #3B4455;\n",
              "      fill: #D2E3FC;\n",
              "    }\n",
              "\n",
              "    [theme=dark] .colab-df-convert:hover {\n",
              "      background-color: #434B5C;\n",
              "      box-shadow: 0px 1px 3px 1px rgba(0, 0, 0, 0.15);\n",
              "      filter: drop-shadow(0px 1px 2px rgba(0, 0, 0, 0.3));\n",
              "      fill: #FFFFFF;\n",
              "    }\n",
              "  </style>\n",
              "\n",
              "    <script>\n",
              "      const buttonEl =\n",
              "        document.querySelector('#df-22455b08-485b-4c5e-a6c6-0a050346be7f button.colab-df-convert');\n",
              "      buttonEl.style.display =\n",
              "        google.colab.kernel.accessAllowed ? 'block' : 'none';\n",
              "\n",
              "      async function convertToInteractive(key) {\n",
              "        const element = document.querySelector('#df-22455b08-485b-4c5e-a6c6-0a050346be7f');\n",
              "        const dataTable =\n",
              "          await google.colab.kernel.invokeFunction('convertToInteractive',\n",
              "                                                    [key], {});\n",
              "        if (!dataTable) return;\n",
              "\n",
              "        const docLinkHtml = 'Like what you see? Visit the ' +\n",
              "          '<a target=\"_blank\" href=https://colab.research.google.com/notebooks/data_table.ipynb>data table notebook</a>'\n",
              "          + ' to learn more about interactive tables.';\n",
              "        element.innerHTML = '';\n",
              "        dataTable['output_type'] = 'display_data';\n",
              "        await google.colab.output.renderOutput(dataTable, element);\n",
              "        const docLink = document.createElement('div');\n",
              "        docLink.innerHTML = docLinkHtml;\n",
              "        element.appendChild(docLink);\n",
              "      }\n",
              "    </script>\n",
              "  </div>\n",
              "\n",
              "\n",
              "<div id=\"df-ed500682-1dc8-4235-b928-65e3fc82d7ba\">\n",
              "  <button class=\"colab-df-quickchart\" onclick=\"quickchart('df-ed500682-1dc8-4235-b928-65e3fc82d7ba')\"\n",
              "            title=\"Suggest charts.\"\n",
              "            style=\"display:none;\">\n",
              "\n",
              "<svg xmlns=\"http://www.w3.org/2000/svg\" height=\"24px\"viewBox=\"0 0 24 24\"\n",
              "     width=\"24px\">\n",
              "    <g>\n",
              "        <path d=\"M19 3H5c-1.1 0-2 .9-2 2v14c0 1.1.9 2 2 2h14c1.1 0 2-.9 2-2V5c0-1.1-.9-2-2-2zM9 17H7v-7h2v7zm4 0h-2V7h2v10zm4 0h-2v-4h2v4z\"/>\n",
              "    </g>\n",
              "</svg>\n",
              "  </button>\n",
              "\n",
              "<style>\n",
              "  .colab-df-quickchart {\n",
              "      --bg-color: #E8F0FE;\n",
              "      --fill-color: #1967D2;\n",
              "      --hover-bg-color: #E2EBFA;\n",
              "      --hover-fill-color: #174EA6;\n",
              "      --disabled-fill-color: #AAA;\n",
              "      --disabled-bg-color: #DDD;\n",
              "  }\n",
              "\n",
              "  [theme=dark] .colab-df-quickchart {\n",
              "      --bg-color: #3B4455;\n",
              "      --fill-color: #D2E3FC;\n",
              "      --hover-bg-color: #434B5C;\n",
              "      --hover-fill-color: #FFFFFF;\n",
              "      --disabled-bg-color: #3B4455;\n",
              "      --disabled-fill-color: #666;\n",
              "  }\n",
              "\n",
              "  .colab-df-quickchart {\n",
              "    background-color: var(--bg-color);\n",
              "    border: none;\n",
              "    border-radius: 50%;\n",
              "    cursor: pointer;\n",
              "    display: none;\n",
              "    fill: var(--fill-color);\n",
              "    height: 32px;\n",
              "    padding: 0;\n",
              "    width: 32px;\n",
              "  }\n",
              "\n",
              "  .colab-df-quickchart:hover {\n",
              "    background-color: var(--hover-bg-color);\n",
              "    box-shadow: 0 1px 2px rgba(60, 64, 67, 0.3), 0 1px 3px 1px rgba(60, 64, 67, 0.15);\n",
              "    fill: var(--button-hover-fill-color);\n",
              "  }\n",
              "\n",
              "  .colab-df-quickchart-complete:disabled,\n",
              "  .colab-df-quickchart-complete:disabled:hover {\n",
              "    background-color: var(--disabled-bg-color);\n",
              "    fill: var(--disabled-fill-color);\n",
              "    box-shadow: none;\n",
              "  }\n",
              "\n",
              "  .colab-df-spinner {\n",
              "    border: 2px solid var(--fill-color);\n",
              "    border-color: transparent;\n",
              "    border-bottom-color: var(--fill-color);\n",
              "    animation:\n",
              "      spin 1s steps(1) infinite;\n",
              "  }\n",
              "\n",
              "  @keyframes spin {\n",
              "    0% {\n",
              "      border-color: transparent;\n",
              "      border-bottom-color: var(--fill-color);\n",
              "      border-left-color: var(--fill-color);\n",
              "    }\n",
              "    20% {\n",
              "      border-color: transparent;\n",
              "      border-left-color: var(--fill-color);\n",
              "      border-top-color: var(--fill-color);\n",
              "    }\n",
              "    30% {\n",
              "      border-color: transparent;\n",
              "      border-left-color: var(--fill-color);\n",
              "      border-top-color: var(--fill-color);\n",
              "      border-right-color: var(--fill-color);\n",
              "    }\n",
              "    40% {\n",
              "      border-color: transparent;\n",
              "      border-right-color: var(--fill-color);\n",
              "      border-top-color: var(--fill-color);\n",
              "    }\n",
              "    60% {\n",
              "      border-color: transparent;\n",
              "      border-right-color: var(--fill-color);\n",
              "    }\n",
              "    80% {\n",
              "      border-color: transparent;\n",
              "      border-right-color: var(--fill-color);\n",
              "      border-bottom-color: var(--fill-color);\n",
              "    }\n",
              "    90% {\n",
              "      border-color: transparent;\n",
              "      border-bottom-color: var(--fill-color);\n",
              "    }\n",
              "  }\n",
              "</style>\n",
              "\n",
              "  <script>\n",
              "    async function quickchart(key) {\n",
              "      const quickchartButtonEl =\n",
              "        document.querySelector('#' + key + ' button');\n",
              "      quickchartButtonEl.disabled = true;  // To prevent multiple clicks.\n",
              "      quickchartButtonEl.classList.add('colab-df-spinner');\n",
              "      try {\n",
              "        const charts = await google.colab.kernel.invokeFunction(\n",
              "            'suggestCharts', [key], {});\n",
              "      } catch (error) {\n",
              "        console.error('Error during call to suggestCharts:', error);\n",
              "      }\n",
              "      quickchartButtonEl.classList.remove('colab-df-spinner');\n",
              "      quickchartButtonEl.classList.add('colab-df-quickchart-complete');\n",
              "    }\n",
              "    (() => {\n",
              "      let quickchartButtonEl =\n",
              "        document.querySelector('#df-ed500682-1dc8-4235-b928-65e3fc82d7ba button');\n",
              "      quickchartButtonEl.style.display =\n",
              "        google.colab.kernel.accessAllowed ? 'block' : 'none';\n",
              "    })();\n",
              "  </script>\n",
              "</div>\n",
              "    </div>\n",
              "  </div>\n"
            ]
          },
          "metadata": {},
          "execution_count": 16
        }
      ]
    },
    {
      "cell_type": "code",
      "source": [
        "#split the dataset\n",
        "X_train = train['text']\n",
        "y_train = train['label']\n",
        "X_test = test['text']\n",
        "y_test = test['label']"
      ],
      "metadata": {
        "id": "7r0vWKeZPW4k"
      },
      "execution_count": 17,
      "outputs": []
    },
    {
      "cell_type": "markdown",
      "source": [
        "## data preprocessing part\n",
        "\n",
        "\n",
        "> Here, I use BERT not word2vec for fine-tuning cause BERT can cosider context.\n",
        "\n",
        "\n",
        "\n",
        "> Whole Process of the Model\n",
        "\n",
        "\n",
        "1.   text is imported in the InputLayer\n",
        "2.   In the BERT layer, texts are converted into the vector so that model can retrieve it\n",
        "3.  In the neural network layer, some parameter tuning is done\n",
        "\n",
        "\n",
        "\n",
        "\n",
        "\n",
        "\n",
        "![chart.png](data:image/png;base64,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)\n",
        "\n"
      ],
      "metadata": {
        "id": "O80xIcIMIjEX"
      }
    },
    {
      "cell_type": "code",
      "source": [
        "bert_preprocess= hub.KerasLayer('https://tfhub.dev/tensorflow/bert_en_uncased_preprocess/3')\n",
        "bert_encoder =  hub.KerasLayer('https://tfhub.dev/tensorflow/bert_en_uncased_L-12_H-768_A-12/4')"
      ],
      "metadata": {
        "id": "eWW22OQ0IIYw"
      },
      "execution_count": 18,
      "outputs": []
    },
    {
      "cell_type": "code",
      "source": [
        "\n",
        "#binary classification ではないから注意\n",
        "def build_classifier_model():\n",
        "  # Bert layers\n",
        "  text_input = tf.keras.layers.Input(shape=(), dtype=tf.string, name='text')\n",
        "  preprocessed_text = bert_preprocess(text_input)\n",
        "  outputs = bert_encoder(preprocessed_text)  #here converted into the vector\n",
        "\n",
        "  # Neural network layers\n",
        "  l = tf.keras.layers.Dropout(0.1, name=\"dropout\")(outputs['pooled_output'])\n",
        "  l = tf.keras.layers.Dense(1, activation='sigmoid', name=\"output\")(l)\n",
        "\n",
        "  # Use inputs and outputs to construct a final model\n",
        "  model = tf.keras.Model(inputs=[text_input], outputs = [l])\n",
        "  return model"
      ],
      "metadata": {
        "id": "dwuEUTznLFmN"
      },
      "execution_count": 19,
      "outputs": []
    },
    {
      "cell_type": "code",
      "source": [
        "classifier_model = build_classifier_model()"
      ],
      "metadata": {
        "id": "NvRd9lfyOGXE"
      },
      "execution_count": 20,
      "outputs": []
    },
    {
      "cell_type": "code",
      "source": [
        "tf.keras.utils.plot_model(classifier_model)"
      ],
      "metadata": {
        "colab": {
          "base_uri": "https://localhost:8080/",
          "height": 466
        },
        "id": "DHC-IlC2My7V",
        "outputId": "897df530-a7ac-4e71-8ce7-67044d1cea47"
      },
      "execution_count": 21,
      "outputs": [
        {
          "output_type": "execute_result",
          "data": {
            "image/png": "[encoded data removed]",
            "text/plain": [
              "<IPython.core.display.Image object>"
            ]
          },
          "metadata": {},
          "execution_count": 21
        }
      ]
    },
    {
      "cell_type": "code",
      "source": [],
      "metadata": {
        "id": "5_zRUfoeOvqF"
      },
      "execution_count": 21,
      "outputs": []
    },
    {
      "cell_type": "code",
      "source": [],
      "metadata": {
        "id": "yJv3tgaEOvut"
      },
      "execution_count": 21,
      "outputs": []
    },
    {
      "cell_type": "code",
      "source": [
        "#ここらへんのチューニング　さらに勉強する必要あり"
      ],
      "metadata": {
        "id": "XGwg0ZOTOvwp"
      },
      "execution_count": 22,
      "outputs": []
    },
    {
      "cell_type": "code",
      "source": [
        "METRICS = [\n",
        "      tf.keras.metrics.CategoricalAccuracy(name='accuracy'),\n",
        "      tf.keras.metrics.Precision(name='precision'),\n",
        "      tf.keras.metrics.Recall(name='recall')\n",
        "]\n",
        "\n",
        "classifier_model.compile(optimizer='adam',\n",
        "              loss='SparseCategoricalCrossentropy',\n",
        "              metrics=METRICS)"
      ],
      "metadata": {
        "id": "rVX6f3FyOEA2"
      },
      "execution_count": 28,
      "outputs": []
    },
    {
      "cell_type": "code",
      "source": [
        "classifier_model.fit(X_train,y_train,epochs = 5)"
      ],
      "metadata": {
        "colab": {
          "base_uri": "https://localhost:8080/",
          "height": 356
        },
        "id": "8kFR-ICKOtvk",
        "outputId": "e461bcfe-ee05-46d1-cb3d-fc2686d30650"
      },
      "execution_count": 29,
      "outputs": [
        {
          "output_type": "stream",
          "name": "stdout",
          "text": [
            "Epoch 1/5\n",
            "450/859 [==============>...............] - ETA: 2:19 - loss: nan - accuracy: 1.0000 - precision: 0.0000e+00 - recall: 0.0000e+00"
          ]
        },
        {
          "output_type": "error",
          "ename": "KeyboardInterrupt",
          "evalue": "ignored",
          "traceback": [
            "\u001b[0;31m---------------------------------------------------------------------------\u001b[0m",
            "\u001b[0;31mKeyboardInterrupt\u001b[0m                         Traceback (most recent call last)",
            "\u001b[0;32m<ipython-input-29-5e8986bddf8a>\u001b[0m in \u001b[0;36m<cell line: 1>\u001b[0;34m()\u001b[0m\n\u001b[0;32m----> 1\u001b[0;31m \u001b[0mclassifier_model\u001b[0m\u001b[0;34m.\u001b[0m\u001b[0mfit\u001b[0m\u001b[0;34m(\u001b[0m\u001b[0mX_train\u001b[0m\u001b[0;34m,\u001b[0m\u001b[0my_train\u001b[0m\u001b[0;34m,\u001b[0m\u001b[0mepochs\u001b[0m \u001b[0;34m=\u001b[0m \u001b[0;36m5\u001b[0m\u001b[0;34m)\u001b[0m\u001b[0;34m\u001b[0m\u001b[0;34m\u001b[0m\u001b[0m\n\u001b[0m",
            "\u001b[0;32m/usr/local/lib/python3.10/dist-packages/keras/src/utils/traceback_utils.py\u001b[0m in \u001b[0;36merror_handler\u001b[0;34m(*args, **kwargs)\u001b[0m\n\u001b[1;32m     63\u001b[0m         \u001b[0mfiltered_tb\u001b[0m \u001b[0;34m=\u001b[0m \u001b[0;32mNone\u001b[0m\u001b[0;34m\u001b[0m\u001b[0;34m\u001b[0m\u001b[0m\n\u001b[1;32m     64\u001b[0m         \u001b[0;32mtry\u001b[0m\u001b[0;34m:\u001b[0m\u001b[0;34m\u001b[0m\u001b[0;34m\u001b[0m\u001b[0m\n\u001b[0;32m---> 65\u001b[0;31m             \u001b[0;32mreturn\u001b[0m \u001b[0mfn\u001b[0m\u001b[0;34m(\u001b[0m\u001b[0;34m*\u001b[0m\u001b[0margs\u001b[0m\u001b[0;34m,\u001b[0m \u001b[0;34m**\u001b[0m\u001b[0mkwargs\u001b[0m\u001b[0;34m)\u001b[0m\u001b[0;34m\u001b[0m\u001b[0;34m\u001b[0m\u001b[0m\n\u001b[0m\u001b[1;32m     66\u001b[0m         \u001b[0;32mexcept\u001b[0m \u001b[0mException\u001b[0m \u001b[0;32mas\u001b[0m \u001b[0me\u001b[0m\u001b[0;34m:\u001b[0m\u001b[0;34m\u001b[0m\u001b[0;34m\u001b[0m\u001b[0m\n\u001b[1;32m     67\u001b[0m             \u001b[0mfiltered_tb\u001b[0m \u001b[0;34m=\u001b[0m \u001b[0m_process_traceback_frames\u001b[0m\u001b[0;34m(\u001b[0m\u001b[0me\u001b[0m\u001b[0;34m.\u001b[0m\u001b[0m__traceback__\u001b[0m\u001b[0;34m)\u001b[0m\u001b[0;34m\u001b[0m\u001b[0;34m\u001b[0m\u001b[0m\n",
            "\u001b[0;32m/usr/local/lib/python3.10/dist-packages/keras/src/engine/training.py\u001b[0m in \u001b[0;36mfit\u001b[0;34m(self, x, y, batch_size, epochs, verbose, callbacks, validation_split, validation_data, shuffle, class_weight, sample_weight, initial_epoch, steps_per_epoch, validation_steps, validation_batch_size, validation_freq, max_queue_size, workers, use_multiprocessing)\u001b[0m\n\u001b[1;32m   1740\u001b[0m                         ):\n\u001b[1;32m   1741\u001b[0m                             \u001b[0mcallbacks\u001b[0m\u001b[0;34m.\u001b[0m\u001b[0mon_train_batch_begin\u001b[0m\u001b[0;34m(\u001b[0m\u001b[0mstep\u001b[0m\u001b[0;34m)\u001b[0m\u001b[0;34m\u001b[0m\u001b[0;34m\u001b[0m\u001b[0m\n\u001b[0;32m-> 1742\u001b[0;31m                             \u001b[0mtmp_logs\u001b[0m \u001b[0;34m=\u001b[0m \u001b[0mself\u001b[0m\u001b[0;34m.\u001b[0m\u001b[0mtrain_function\u001b[0m\u001b[0;34m(\u001b[0m\u001b[0miterator\u001b[0m\u001b[0;34m)\u001b[0m\u001b[0;34m\u001b[0m\u001b[0;34m\u001b[0m\u001b[0m\n\u001b[0m\u001b[1;32m   1743\u001b[0m                             \u001b[0;32mif\u001b[0m \u001b[0mdata_handler\u001b[0m\u001b[0;34m.\u001b[0m\u001b[0mshould_sync\u001b[0m\u001b[0;34m:\u001b[0m\u001b[0;34m\u001b[0m\u001b[0;34m\u001b[0m\u001b[0m\n\u001b[1;32m   1744\u001b[0m                                 \u001b[0mcontext\u001b[0m\u001b[0;34m.\u001b[0m\u001b[0masync_wait\u001b[0m\u001b[0;34m(\u001b[0m\u001b[0;34m)\u001b[0m\u001b[0;34m\u001b[0m\u001b[0;34m\u001b[0m\u001b[0m\n",
            "\u001b[0;32m/usr/local/lib/python3.10/dist-packages/tensorflow/python/util/traceback_utils.py\u001b[0m in \u001b[0;36merror_handler\u001b[0;34m(*args, **kwargs)\u001b[0m\n\u001b[1;32m    148\u001b[0m     \u001b[0mfiltered_tb\u001b[0m \u001b[0;34m=\u001b[0m \u001b[0;32mNone\u001b[0m\u001b[0;34m\u001b[0m\u001b[0;34m\u001b[0m\u001b[0m\n\u001b[1;32m    149\u001b[0m     \u001b[0;32mtry\u001b[0m\u001b[0;34m:\u001b[0m\u001b[0;34m\u001b[0m\u001b[0;34m\u001b[0m\u001b[0m\n\u001b[0;32m--> 150\u001b[0;31m       \u001b[0;32mreturn\u001b[0m \u001b[0mfn\u001b[0m\u001b[0;34m(\u001b[0m\u001b[0;34m*\u001b[0m\u001b[0margs\u001b[0m\u001b[0;34m,\u001b[0m \u001b[0;34m**\u001b[0m\u001b[0mkwargs\u001b[0m\u001b[0;34m)\u001b[0m\u001b[0;34m\u001b[0m\u001b[0;34m\u001b[0m\u001b[0m\n\u001b[0m\u001b[1;32m    151\u001b[0m     \u001b[0;32mexcept\u001b[0m \u001b[0mException\u001b[0m \u001b[0;32mas\u001b[0m \u001b[0me\u001b[0m\u001b[0;34m:\u001b[0m\u001b[0;34m\u001b[0m\u001b[0;34m\u001b[0m\u001b[0m\n\u001b[1;32m    152\u001b[0m       \u001b[0mfiltered_tb\u001b[0m \u001b[0;34m=\u001b[0m \u001b[0m_process_traceback_frames\u001b[0m\u001b[0;34m(\u001b[0m\u001b[0me\u001b[0m\u001b[0;34m.\u001b[0m\u001b[0m__traceback__\u001b[0m\u001b[0;34m)\u001b[0m\u001b[0;34m\u001b[0m\u001b[0;34m\u001b[0m\u001b[0m\n",
            "\u001b[0;32m/usr/local/lib/python3.10/dist-packages/tensorflow/python/eager/polymorphic_function/polymorphic_function.py\u001b[0m in \u001b[0;36m__call__\u001b[0;34m(self, *args, **kwds)\u001b[0m\n\u001b[1;32m    823\u001b[0m \u001b[0;34m\u001b[0m\u001b[0m\n\u001b[1;32m    824\u001b[0m       \u001b[0;32mwith\u001b[0m \u001b[0mOptionalXlaContext\u001b[0m\u001b[0;34m(\u001b[0m\u001b[0mself\u001b[0m\u001b[0;34m.\u001b[0m\u001b[0m_jit_compile\u001b[0m\u001b[0;34m)\u001b[0m\u001b[0;34m:\u001b[0m\u001b[0;34m\u001b[0m\u001b[0;34m\u001b[0m\u001b[0m\n\u001b[0;32m--> 825\u001b[0;31m         \u001b[0mresult\u001b[0m \u001b[0;34m=\u001b[0m \u001b[0mself\u001b[0m\u001b[0;34m.\u001b[0m\u001b[0m_call\u001b[0m\u001b[0;34m(\u001b[0m\u001b[0;34m*\u001b[0m\u001b[0margs\u001b[0m\u001b[0;34m,\u001b[0m \u001b[0;34m**\u001b[0m\u001b[0mkwds\u001b[0m\u001b[0;34m)\u001b[0m\u001b[0;34m\u001b[0m\u001b[0;34m\u001b[0m\u001b[0m\n\u001b[0m\u001b[1;32m    826\u001b[0m \u001b[0;34m\u001b[0m\u001b[0m\n\u001b[1;32m    827\u001b[0m       \u001b[0mnew_tracing_count\u001b[0m \u001b[0;34m=\u001b[0m \u001b[0mself\u001b[0m\u001b[0;34m.\u001b[0m\u001b[0mexperimental_get_tracing_count\u001b[0m\u001b[0;34m(\u001b[0m\u001b[0;34m)\u001b[0m\u001b[0;34m\u001b[0m\u001b[0;34m\u001b[0m\u001b[0m\n",
            "\u001b[0;32m/usr/local/lib/python3.10/dist-packages/tensorflow/python/eager/polymorphic_function/polymorphic_function.py\u001b[0m in \u001b[0;36m_call\u001b[0;34m(self, *args, **kwds)\u001b[0m\n\u001b[1;32m    855\u001b[0m       \u001b[0;31m# In this case we have created variables on the first call, so we run the\u001b[0m\u001b[0;34m\u001b[0m\u001b[0;34m\u001b[0m\u001b[0m\n\u001b[1;32m    856\u001b[0m       \u001b[0;31m# defunned version which is guaranteed to never create variables.\u001b[0m\u001b[0;34m\u001b[0m\u001b[0;34m\u001b[0m\u001b[0m\n\u001b[0;32m--> 857\u001b[0;31m       \u001b[0;32mreturn\u001b[0m \u001b[0mself\u001b[0m\u001b[0;34m.\u001b[0m\u001b[0m_no_variable_creation_fn\u001b[0m\u001b[0;34m(\u001b[0m\u001b[0;34m*\u001b[0m\u001b[0margs\u001b[0m\u001b[0;34m,\u001b[0m \u001b[0;34m**\u001b[0m\u001b[0mkwds\u001b[0m\u001b[0;34m)\u001b[0m  \u001b[0;31m# pylint: disable=not-callable\u001b[0m\u001b[0;34m\u001b[0m\u001b[0;34m\u001b[0m\u001b[0m\n\u001b[0m\u001b[1;32m    858\u001b[0m     \u001b[0;32melif\u001b[0m \u001b[0mself\u001b[0m\u001b[0;34m.\u001b[0m\u001b[0m_variable_creation_fn\u001b[0m \u001b[0;32mis\u001b[0m \u001b[0;32mnot\u001b[0m \u001b[0;32mNone\u001b[0m\u001b[0;34m:\u001b[0m\u001b[0;34m\u001b[0m\u001b[0;34m\u001b[0m\u001b[0m\n\u001b[1;32m    859\u001b[0m       \u001b[0;31m# Release the lock early so that multiple threads can perform the call\u001b[0m\u001b[0;34m\u001b[0m\u001b[0;34m\u001b[0m\u001b[0m\n",
            "\u001b[0;32m/usr/local/lib/python3.10/dist-packages/tensorflow/python/eager/polymorphic_function/tracing_compiler.py\u001b[0m in \u001b[0;36m__call__\u001b[0;34m(self, *args, **kwargs)\u001b[0m\n\u001b[1;32m    146\u001b[0m       (concrete_function,\n\u001b[1;32m    147\u001b[0m        filtered_flat_args) = self._maybe_define_function(args, kwargs)\n\u001b[0;32m--> 148\u001b[0;31m     return concrete_function._call_flat(\n\u001b[0m\u001b[1;32m    149\u001b[0m         filtered_flat_args, captured_inputs=concrete_function.captured_inputs)  # pylint: disable=protected-access\n\u001b[1;32m    150\u001b[0m \u001b[0;34m\u001b[0m\u001b[0m\n",
            "\u001b[0;32m/usr/local/lib/python3.10/dist-packages/tensorflow/python/eager/polymorphic_function/monomorphic_function.py\u001b[0m in \u001b[0;36m_call_flat\u001b[0;34m(self, args, captured_inputs)\u001b[0m\n\u001b[1;32m   1347\u001b[0m         and executing_eagerly):\n\u001b[1;32m   1348\u001b[0m       \u001b[0;31m# No tape is watching; skip to running the function.\u001b[0m\u001b[0;34m\u001b[0m\u001b[0;34m\u001b[0m\u001b[0m\n\u001b[0;32m-> 1349\u001b[0;31m       \u001b[0;32mreturn\u001b[0m \u001b[0mself\u001b[0m\u001b[0;34m.\u001b[0m\u001b[0m_build_call_outputs\u001b[0m\u001b[0;34m(\u001b[0m\u001b[0mself\u001b[0m\u001b[0;34m.\u001b[0m\u001b[0m_inference_function\u001b[0m\u001b[0;34m(\u001b[0m\u001b[0;34m*\u001b[0m\u001b[0margs\u001b[0m\u001b[0;34m)\u001b[0m\u001b[0;34m)\u001b[0m\u001b[0;34m\u001b[0m\u001b[0;34m\u001b[0m\u001b[0m\n\u001b[0m\u001b[1;32m   1350\u001b[0m     forward_backward = self._select_forward_and_backward_functions(\n\u001b[1;32m   1351\u001b[0m         \u001b[0margs\u001b[0m\u001b[0;34m,\u001b[0m\u001b[0;34m\u001b[0m\u001b[0;34m\u001b[0m\u001b[0m\n",
            "\u001b[0;32m/usr/local/lib/python3.10/dist-packages/tensorflow/python/eager/polymorphic_function/atomic_function.py\u001b[0m in \u001b[0;36m__call__\u001b[0;34m(self, *args)\u001b[0m\n\u001b[1;32m    194\u001b[0m         \u001b[0;32mwith\u001b[0m \u001b[0mrecord\u001b[0m\u001b[0;34m.\u001b[0m\u001b[0mstop_recording\u001b[0m\u001b[0;34m(\u001b[0m\u001b[0;34m)\u001b[0m\u001b[0;34m:\u001b[0m\u001b[0;34m\u001b[0m\u001b[0;34m\u001b[0m\u001b[0m\n\u001b[1;32m    195\u001b[0m           \u001b[0;32mif\u001b[0m \u001b[0mself\u001b[0m\u001b[0;34m.\u001b[0m\u001b[0m_bound_context\u001b[0m\u001b[0;34m.\u001b[0m\u001b[0mexecuting_eagerly\u001b[0m\u001b[0;34m(\u001b[0m\u001b[0;34m)\u001b[0m\u001b[0;34m:\u001b[0m\u001b[0;34m\u001b[0m\u001b[0;34m\u001b[0m\u001b[0m\n\u001b[0;32m--> 196\u001b[0;31m             outputs = self._bound_context.call_function(\n\u001b[0m\u001b[1;32m    197\u001b[0m                 \u001b[0mself\u001b[0m\u001b[0;34m.\u001b[0m\u001b[0mname\u001b[0m\u001b[0;34m,\u001b[0m\u001b[0;34m\u001b[0m\u001b[0;34m\u001b[0m\u001b[0m\n\u001b[1;32m    198\u001b[0m                 \u001b[0mlist\u001b[0m\u001b[0;34m(\u001b[0m\u001b[0margs\u001b[0m\u001b[0;34m)\u001b[0m\u001b[0;34m,\u001b[0m\u001b[0;34m\u001b[0m\u001b[0;34m\u001b[0m\u001b[0m\n",
            "\u001b[0;32m/usr/local/lib/python3.10/dist-packages/tensorflow/python/eager/context.py\u001b[0m in \u001b[0;36mcall_function\u001b[0;34m(self, name, tensor_inputs, num_outputs)\u001b[0m\n\u001b[1;32m   1455\u001b[0m     \u001b[0mcancellation_context\u001b[0m \u001b[0;34m=\u001b[0m \u001b[0mcancellation\u001b[0m\u001b[0;34m.\u001b[0m\u001b[0mcontext\u001b[0m\u001b[0;34m(\u001b[0m\u001b[0;34m)\u001b[0m\u001b[0;34m\u001b[0m\u001b[0;34m\u001b[0m\u001b[0m\n\u001b[1;32m   1456\u001b[0m     \u001b[0;32mif\u001b[0m \u001b[0mcancellation_context\u001b[0m \u001b[0;32mis\u001b[0m \u001b[0;32mNone\u001b[0m\u001b[0;34m:\u001b[0m\u001b[0;34m\u001b[0m\u001b[0;34m\u001b[0m\u001b[0m\n\u001b[0;32m-> 1457\u001b[0;31m       outputs = execute.execute(\n\u001b[0m\u001b[1;32m   1458\u001b[0m           \u001b[0mname\u001b[0m\u001b[0;34m.\u001b[0m\u001b[0mdecode\u001b[0m\u001b[0;34m(\u001b[0m\u001b[0;34m\"utf-8\"\u001b[0m\u001b[0;34m)\u001b[0m\u001b[0;34m,\u001b[0m\u001b[0;34m\u001b[0m\u001b[0;34m\u001b[0m\u001b[0m\n\u001b[1;32m   1459\u001b[0m           \u001b[0mnum_outputs\u001b[0m\u001b[0;34m=\u001b[0m\u001b[0mnum_outputs\u001b[0m\u001b[0;34m,\u001b[0m\u001b[0;34m\u001b[0m\u001b[0;34m\u001b[0m\u001b[0m\n",
            "\u001b[0;32m/usr/local/lib/python3.10/dist-packages/tensorflow/python/eager/execute.py\u001b[0m in \u001b[0;36mquick_execute\u001b[0;34m(op_name, num_outputs, inputs, attrs, ctx, name)\u001b[0m\n\u001b[1;32m     51\u001b[0m   \u001b[0;32mtry\u001b[0m\u001b[0;34m:\u001b[0m\u001b[0;34m\u001b[0m\u001b[0;34m\u001b[0m\u001b[0m\n\u001b[1;32m     52\u001b[0m     \u001b[0mctx\u001b[0m\u001b[0;34m.\u001b[0m\u001b[0mensure_initialized\u001b[0m\u001b[0;34m(\u001b[0m\u001b[0;34m)\u001b[0m\u001b[0;34m\u001b[0m\u001b[0;34m\u001b[0m\u001b[0m\n\u001b[0;32m---> 53\u001b[0;31m     tensors = pywrap_tfe.TFE_Py_Execute(ctx._handle, device_name, op_name,\n\u001b[0m\u001b[1;32m     54\u001b[0m                                         inputs, attrs, num_outputs)\n\u001b[1;32m     55\u001b[0m   \u001b[0;32mexcept\u001b[0m \u001b[0mcore\u001b[0m\u001b[0;34m.\u001b[0m\u001b[0m_NotOkStatusException\u001b[0m \u001b[0;32mas\u001b[0m \u001b[0me\u001b[0m\u001b[0;34m:\u001b[0m\u001b[0;34m\u001b[0m\u001b[0;34m\u001b[0m\u001b[0m\n",
            "\u001b[0;31mKeyboardInterrupt\u001b[0m: "
          ]
        }
      ]
    },
    {
      "cell_type": "code",
      "source": [
        "#more parameter tuting section to improve accuracy"
      ],
      "metadata": {
        "id": "8kRKDdUPO0TG"
      },
      "execution_count": null,
      "outputs": []
    }
  ]
}